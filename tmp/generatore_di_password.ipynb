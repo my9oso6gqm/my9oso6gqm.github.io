{
  "nbformat": 4,
  "nbformat_minor": 0,
  "metadata": {
    "colab": {
      "provenance": []
    },
    "kernelspec": {
      "name": "python3",
      "display_name": "Python 3"
    },
    "language_info": {
      "name": "python"
    }
  },
  "cells": [
    {
      "cell_type": "code",
      "execution_count": null,
      "metadata": {
        "id": "KEy-efZuk2uN"
      },
      "outputs": [],
      "source": [
        "import random, string\n",
        "myrg = random.SystemRandom()\n",
        "length = 10\n",
        "alphabet = string.ascii_letters + string.digits\n",
        "password = \"\".join(myrg.choice(alphabet) for _ in range(length))\n",
        "print(password)"
      ]
    },
    {
      "cell_type": "code",
      "source": [],
      "metadata": {
        "id": "d1XYDAZJk4GY"
      },
      "execution_count": null,
      "outputs": []
    }
  ]
}