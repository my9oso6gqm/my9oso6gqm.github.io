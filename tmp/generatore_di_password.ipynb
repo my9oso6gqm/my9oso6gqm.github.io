{
  "nbformat": 4,
  "nbformat_minor": 0,
  "metadata": {
    "colab": {
      "provenance": []
    },
    "kernelspec": {
      "name": "python3",
      "display_name": "Python 3"
    },
    "language_info": {
      "name": "python"
    }
  },
  "cells": [
    {
      "cell_type": "markdown",
      "source": [
        "Un generatore di password.\n",
        "\n",
        "https://colab.research.google.com/drive/17W6Vi5yGtl_fO2Uw1ctfBqBP5e5glrU"
      ],
      "metadata": {
        "id": "mDoYzFLhz99t"
      }
    },
    {
      "cell_type": "code",
      "execution_count": 1,
      "metadata": {
        "colab": {
          "base_uri": "https://localhost:8080/"
        },
        "id": "KEy-efZuk2uN",
        "outputId": "5d26ee38-c806-4ac6-9995-a6dbb652b7f7"
      },
      "outputs": [
        {
          "output_type": "stream",
          "name": "stdout",
          "text": [
            "7mncuotoI1\n"
          ]
        }
      ],
      "source": [
        "import random, string\n",
        "myrg = random.SystemRandom()\n",
        "length = 10\n",
        "alphabet = string.ascii_letters + string.digits\n",
        "password = \"\".join(myrg.choice(alphabet) for _ in range(length))\n",
        "print(password)"
      ]
    }
  ]
}