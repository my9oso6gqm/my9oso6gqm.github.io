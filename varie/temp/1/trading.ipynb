{
  "nbformat": 4,
  "nbformat_minor": 0,
  "metadata": {
    "colab": {
      "name": "trading.ipynb",
      "provenance": [],
      "authorship_tag": "ABX9TyMrRnnxP0Y3WK9M8dN5dVF8",
      "include_colab_link": true
    },
    "kernelspec": {
      "name": "python3",
      "display_name": "Python 3"
    },
    "language_info": {
      "name": "python"
    }
  },
  "cells": [
    {
      "cell_type": "markdown",
      "metadata": {
        "id": "view-in-github",
        "colab_type": "text"
      },
      "source": [
        "<a href=\"https://colab.research.google.com/github/my9oso6gqm/my9oso6gqm.github.io/blob/main/varie/temp/1/trading.ipynb\" target=\"_parent\"><img src=\"https://colab.research.google.com/assets/colab-badge.svg\" alt=\"Open In Colab\"/></a>"
      ]
    },
    {
      "cell_type": "code",
      "source": [
        "## Recupero dati da Binance"
      ],
      "metadata": {
        "id": "ZNaD7jEejbiJ"
      },
      "execution_count": 1,
      "outputs": []
    },
    {
      "cell_type": "code",
      "execution_count": 2,
      "metadata": {
        "colab": {
          "base_uri": "https://localhost:8080/"
        },
        "id": "ZkjjbjxeoOi9",
        "outputId": "e816f093-6ff3-4454-92aa-632ce757a93b"
      },
      "outputs": [
        {
          "output_type": "stream",
          "name": "stdout",
          "text": [
            "Looking in indexes: https://pypi.org/simple, https://us-python.pkg.dev/colab-wheels/public/simple/\n",
            "Collecting binance-connector\n",
            "  Downloading binance_connector-1.13.0-py3-none-any.whl (47 kB)\n",
            "\u001b[K     |████████████████████████████████| 47 kB 4.8 MB/s \n",
            "\u001b[?25hCollecting service-identity>=21.1.0\n",
            "  Downloading service_identity-21.1.0-py2.py3-none-any.whl (12 kB)\n",
            "Collecting Twisted>=21.2.0\n",
            "  Downloading Twisted-22.4.0-py3-none-any.whl (3.1 MB)\n",
            "\u001b[K     |████████████████████████████████| 3.1 MB 50.6 MB/s \n",
            "\u001b[?25hCollecting pyOpenSSL>=19.0.0\n",
            "  Downloading pyOpenSSL-22.0.0-py2.py3-none-any.whl (55 kB)\n",
            "\u001b[K     |████████████████████████████████| 55 kB 4.4 MB/s \n",
            "\u001b[?25hCollecting autobahn>=21.2.1\n",
            "  Downloading autobahn-22.4.2.tar.gz (396 kB)\n",
            "\u001b[K     |████████████████████████████████| 396 kB 43.6 MB/s \n",
            "\u001b[?25hCollecting requests>=2.25.1\n",
            "  Downloading requests-2.27.1-py2.py3-none-any.whl (63 kB)\n",
            "\u001b[K     |████████████████████████████████| 63 kB 2.1 MB/s \n",
            "\u001b[?25hCollecting txaio>=21.2.1\n",
            "  Downloading txaio-22.2.1-py2.py3-none-any.whl (30 kB)\n",
            "Collecting cryptography>=3.4.6\n",
            "  Downloading cryptography-37.0.2-cp36-abi3-manylinux_2_24_x86_64.whl (4.0 MB)\n",
            "\u001b[K     |████████████████████████████████| 4.0 MB 43.1 MB/s \n",
            "\u001b[?25hCollecting hyperlink>=21.0.0\n",
            "  Downloading hyperlink-21.0.0-py2.py3-none-any.whl (74 kB)\n",
            "\u001b[K     |████████████████████████████████| 74 kB 3.8 MB/s \n",
            "\u001b[?25hRequirement already satisfied: setuptools in /usr/local/lib/python3.7/dist-packages (from autobahn>=21.2.1->binance-connector) (57.4.0)\n",
            "Requirement already satisfied: cffi>=1.12 in /usr/local/lib/python3.7/dist-packages (from cryptography>=3.4.6->autobahn>=21.2.1->binance-connector) (1.15.0)\n",
            "Requirement already satisfied: pycparser in /usr/local/lib/python3.7/dist-packages (from cffi>=1.12->cryptography>=3.4.6->autobahn>=21.2.1->binance-connector) (2.21)\n",
            "Requirement already satisfied: idna>=2.5 in /usr/local/lib/python3.7/dist-packages (from hyperlink>=21.0.0->autobahn>=21.2.1->binance-connector) (2.10)\n",
            "Requirement already satisfied: charset-normalizer~=2.0.0 in /usr/local/lib/python3.7/dist-packages (from requests>=2.25.1->binance-connector) (2.0.12)\n",
            "Requirement already satisfied: certifi>=2017.4.17 in /usr/local/lib/python3.7/dist-packages (from requests>=2.25.1->binance-connector) (2022.5.18.1)\n",
            "Requirement already satisfied: urllib3<1.27,>=1.21.1 in /usr/local/lib/python3.7/dist-packages (from requests>=2.25.1->binance-connector) (1.24.3)\n",
            "Requirement already satisfied: attrs>=19.1.0 in /usr/local/lib/python3.7/dist-packages (from service-identity>=21.1.0->binance-connector) (21.4.0)\n",
            "Requirement already satisfied: pyasn1-modules in /usr/local/lib/python3.7/dist-packages (from service-identity>=21.1.0->binance-connector) (0.2.8)\n",
            "Requirement already satisfied: pyasn1 in /usr/local/lib/python3.7/dist-packages (from service-identity>=21.1.0->binance-connector) (0.4.8)\n",
            "Requirement already satisfied: six in /usr/local/lib/python3.7/dist-packages (from service-identity>=21.1.0->binance-connector) (1.15.0)\n",
            "Collecting Automat>=0.8.0\n",
            "  Downloading Automat-20.2.0-py2.py3-none-any.whl (31 kB)\n",
            "Collecting constantly>=15.1\n",
            "  Downloading constantly-15.1.0-py2.py3-none-any.whl (7.9 kB)\n",
            "Collecting zope.interface>=4.4.2\n",
            "  Downloading zope.interface-5.4.0-cp37-cp37m-manylinux2010_x86_64.whl (251 kB)\n",
            "\u001b[K     |████████████████████████████████| 251 kB 57.9 MB/s \n",
            "\u001b[?25hRequirement already satisfied: typing-extensions>=3.6.5 in /usr/local/lib/python3.7/dist-packages (from Twisted>=21.2.0->binance-connector) (4.2.0)\n",
            "Collecting incremental>=21.3.0\n",
            "  Downloading incremental-21.3.0-py2.py3-none-any.whl (15 kB)\n",
            "Building wheels for collected packages: autobahn\n",
            "  Building wheel for autobahn (setup.py) ... \u001b[?25l\u001b[?25hdone\n",
            "  Created wheel for autobahn: filename=autobahn-22.4.2-cp37-cp37m-linux_x86_64.whl size=580332 sha256=c5ebf2440b7d4619010c61415581d594b6d946d101c16b905c353b7498851518\n",
            "  Stored in directory: /root/.cache/pip/wheels/ec/0b/fc/7cf072cb66e08c9365e03420a6447aa45da6f70dd4b08b223c\n",
            "Successfully built autobahn\n",
            "Installing collected packages: zope.interface, txaio, incremental, hyperlink, cryptography, constantly, Automat, Twisted, service-identity, requests, pyOpenSSL, autobahn, binance-connector\n",
            "  Attempting uninstall: requests\n",
            "    Found existing installation: requests 2.23.0\n",
            "    Uninstalling requests-2.23.0:\n",
            "      Successfully uninstalled requests-2.23.0\n",
            "\u001b[31mERROR: pip's dependency resolver does not currently take into account all the packages that are installed. This behaviour is the source of the following dependency conflicts.\n",
            "google-colab 1.0.0 requires requests~=2.23.0, but you have requests 2.27.1 which is incompatible.\n",
            "datascience 0.10.6 requires folium==0.2.1, but you have folium 0.8.3 which is incompatible.\u001b[0m\n",
            "Successfully installed Automat-20.2.0 Twisted-22.4.0 autobahn-22.4.2 binance-connector-1.13.0 constantly-15.1.0 cryptography-37.0.2 hyperlink-21.0.0 incremental-21.3.0 pyOpenSSL-22.0.0 requests-2.27.1 service-identity-21.1.0 txaio-22.2.1 zope.interface-5.4.0\n"
          ]
        }
      ],
      "source": [
        "!pip install binance-connector"
      ]
    },
    {
      "cell_type": "code",
      "source": [
        "from binance.spot import Spot as Client\n",
        "import pandas as pd"
      ],
      "metadata": {
        "id": "zJT_dAtC8hiq"
      },
      "execution_count": 3,
      "outputs": []
    },
    {
      "cell_type": "code",
      "source": [
        "## Recupero dalle Api di Binance i dati di Cardano\n",
        "spot_client = Client(base_url=\"https://api.binance.com\")\n",
        "data = spot_client.klines(\"ADAUSDT\", \"1m\", limit=100)"
      ],
      "metadata": {
        "id": "RRkRPT81-emS"
      },
      "execution_count": 4,
      "outputs": []
    },
    {
      "cell_type": "code",
      "source": [
        "## Converto la risposta delle Api in un Dataframe di Pandas\n",
        "df = pd.DataFrame(data)"
      ],
      "metadata": {
        "id": "0yb03-_f9bTz"
      },
      "execution_count": 5,
      "outputs": []
    },
    {
      "cell_type": "code",
      "source": [
        "## Stampo il Dataframe\n",
        "df"
      ],
      "metadata": {
        "colab": {
          "base_uri": "https://localhost:8080/",
          "height": 488
        },
        "id": "AHhIBr-c-k78",
        "outputId": "02a03b94-ef70-4dd9-9e51-31be98cb39b6"
      },
      "execution_count": 6,
      "outputs": [
        {
          "output_type": "execute_result",
          "data": {
            "text/plain": [
              "               0           1           2           3           4   \\\n",
              "0   1654064100000  0.60520000  0.60550000  0.60460000  0.60510000   \n",
              "1   1654064160000  0.60520000  0.60520000  0.60360000  0.60370000   \n",
              "2   1654064220000  0.60370000  0.60370000  0.60240000  0.60280000   \n",
              "3   1654064280000  0.60290000  0.60360000  0.60290000  0.60330000   \n",
              "4   1654064340000  0.60320000  0.60380000  0.60300000  0.60370000   \n",
              "..            ...         ...         ...         ...         ...   \n",
              "95  1654069800000  0.60580000  0.60640000  0.60540000  0.60640000   \n",
              "96  1654069860000  0.60650000  0.60720000  0.60590000  0.60710000   \n",
              "97  1654069920000  0.60720000  0.60720000  0.60540000  0.60630000   \n",
              "98  1654069980000  0.60640000  0.60650000  0.60510000  0.60550000   \n",
              "99  1654070040000  0.60550000  0.60550000  0.60460000  0.60480000   \n",
              "\n",
              "                 5              6                7    8                9   \\\n",
              "0   378595.30000000  1654064159999  229071.67654000  217  137999.80000000   \n",
              "1   111490.00000000  1654064219999   67387.55404000  152   28065.00000000   \n",
              "2    57898.40000000  1654064279999   34914.20366000  138   17048.40000000   \n",
              "3    68028.60000000  1654064339999   41034.28247000  133   28568.60000000   \n",
              "4   125524.60000000  1654064399999   75727.26427000  139   66008.10000000   \n",
              "..              ...            ...              ...  ...              ...   \n",
              "95   82661.20000000  1654069859999   50074.25692000  128   42593.00000000   \n",
              "96   93587.90000000  1654069919999   56774.61861000  144   59347.70000000   \n",
              "97  309568.60000000  1654069979999  187593.02061000  295   49442.30000000   \n",
              "98   69588.00000000  1654070039999   42136.92928000  119   39652.80000000   \n",
              "99  106204.40000000  1654070099999   64256.36845000  173   53467.70000000   \n",
              "\n",
              "                10 11  \n",
              "0   83509.39083000  0  \n",
              "1   16955.13090000  0  \n",
              "2   10279.99684000  0  \n",
              "3   17230.31968000  0  \n",
              "4   39826.78695000  0  \n",
              "..             ... ..  \n",
              "95  25805.19340000  0  \n",
              "96  36007.94013000  0  \n",
              "97  29971.99937000  0  \n",
              "98  24011.16623000  0  \n",
              "99  32344.92507000  0  \n",
              "\n",
              "[100 rows x 12 columns]"
            ],
            "text/html": [
              "\n",
              "  <div id=\"df-736b0b2d-80b6-476e-baed-aeeb5214c694\">\n",
              "    <div class=\"colab-df-container\">\n",
              "      <div>\n",
              "<style scoped>\n",
              "    .dataframe tbody tr th:only-of-type {\n",
              "        vertical-align: middle;\n",
              "    }\n",
              "\n",
              "    .dataframe tbody tr th {\n",
              "        vertical-align: top;\n",
              "    }\n",
              "\n",
              "    .dataframe thead th {\n",
              "        text-align: right;\n",
              "    }\n",
              "</style>\n",
              "<table border=\"1\" class=\"dataframe\">\n",
              "  <thead>\n",
              "    <tr style=\"text-align: right;\">\n",
              "      <th></th>\n",
              "      <th>0</th>\n",
              "      <th>1</th>\n",
              "      <th>2</th>\n",
              "      <th>3</th>\n",
              "      <th>4</th>\n",
              "      <th>5</th>\n",
              "      <th>6</th>\n",
              "      <th>7</th>\n",
              "      <th>8</th>\n",
              "      <th>9</th>\n",
              "      <th>10</th>\n",
              "      <th>11</th>\n",
              "    </tr>\n",
              "  </thead>\n",
              "  <tbody>\n",
              "    <tr>\n",
              "      <th>0</th>\n",
              "      <td>1654064100000</td>\n",
              "      <td>0.60520000</td>\n",
              "      <td>0.60550000</td>\n",
              "      <td>0.60460000</td>\n",
              "      <td>0.60510000</td>\n",
              "      <td>378595.30000000</td>\n",
              "      <td>1654064159999</td>\n",
              "      <td>229071.67654000</td>\n",
              "      <td>217</td>\n",
              "      <td>137999.80000000</td>\n",
              "      <td>83509.39083000</td>\n",
              "      <td>0</td>\n",
              "    </tr>\n",
              "    <tr>\n",
              "      <th>1</th>\n",
              "      <td>1654064160000</td>\n",
              "      <td>0.60520000</td>\n",
              "      <td>0.60520000</td>\n",
              "      <td>0.60360000</td>\n",
              "      <td>0.60370000</td>\n",
              "      <td>111490.00000000</td>\n",
              "      <td>1654064219999</td>\n",
              "      <td>67387.55404000</td>\n",
              "      <td>152</td>\n",
              "      <td>28065.00000000</td>\n",
              "      <td>16955.13090000</td>\n",
              "      <td>0</td>\n",
              "    </tr>\n",
              "    <tr>\n",
              "      <th>2</th>\n",
              "      <td>1654064220000</td>\n",
              "      <td>0.60370000</td>\n",
              "      <td>0.60370000</td>\n",
              "      <td>0.60240000</td>\n",
              "      <td>0.60280000</td>\n",
              "      <td>57898.40000000</td>\n",
              "      <td>1654064279999</td>\n",
              "      <td>34914.20366000</td>\n",
              "      <td>138</td>\n",
              "      <td>17048.40000000</td>\n",
              "      <td>10279.99684000</td>\n",
              "      <td>0</td>\n",
              "    </tr>\n",
              "    <tr>\n",
              "      <th>3</th>\n",
              "      <td>1654064280000</td>\n",
              "      <td>0.60290000</td>\n",
              "      <td>0.60360000</td>\n",
              "      <td>0.60290000</td>\n",
              "      <td>0.60330000</td>\n",
              "      <td>68028.60000000</td>\n",
              "      <td>1654064339999</td>\n",
              "      <td>41034.28247000</td>\n",
              "      <td>133</td>\n",
              "      <td>28568.60000000</td>\n",
              "      <td>17230.31968000</td>\n",
              "      <td>0</td>\n",
              "    </tr>\n",
              "    <tr>\n",
              "      <th>4</th>\n",
              "      <td>1654064340000</td>\n",
              "      <td>0.60320000</td>\n",
              "      <td>0.60380000</td>\n",
              "      <td>0.60300000</td>\n",
              "      <td>0.60370000</td>\n",
              "      <td>125524.60000000</td>\n",
              "      <td>1654064399999</td>\n",
              "      <td>75727.26427000</td>\n",
              "      <td>139</td>\n",
              "      <td>66008.10000000</td>\n",
              "      <td>39826.78695000</td>\n",
              "      <td>0</td>\n",
              "    </tr>\n",
              "    <tr>\n",
              "      <th>...</th>\n",
              "      <td>...</td>\n",
              "      <td>...</td>\n",
              "      <td>...</td>\n",
              "      <td>...</td>\n",
              "      <td>...</td>\n",
              "      <td>...</td>\n",
              "      <td>...</td>\n",
              "      <td>...</td>\n",
              "      <td>...</td>\n",
              "      <td>...</td>\n",
              "      <td>...</td>\n",
              "      <td>...</td>\n",
              "    </tr>\n",
              "    <tr>\n",
              "      <th>95</th>\n",
              "      <td>1654069800000</td>\n",
              "      <td>0.60580000</td>\n",
              "      <td>0.60640000</td>\n",
              "      <td>0.60540000</td>\n",
              "      <td>0.60640000</td>\n",
              "      <td>82661.20000000</td>\n",
              "      <td>1654069859999</td>\n",
              "      <td>50074.25692000</td>\n",
              "      <td>128</td>\n",
              "      <td>42593.00000000</td>\n",
              "      <td>25805.19340000</td>\n",
              "      <td>0</td>\n",
              "    </tr>\n",
              "    <tr>\n",
              "      <th>96</th>\n",
              "      <td>1654069860000</td>\n",
              "      <td>0.60650000</td>\n",
              "      <td>0.60720000</td>\n",
              "      <td>0.60590000</td>\n",
              "      <td>0.60710000</td>\n",
              "      <td>93587.90000000</td>\n",
              "      <td>1654069919999</td>\n",
              "      <td>56774.61861000</td>\n",
              "      <td>144</td>\n",
              "      <td>59347.70000000</td>\n",
              "      <td>36007.94013000</td>\n",
              "      <td>0</td>\n",
              "    </tr>\n",
              "    <tr>\n",
              "      <th>97</th>\n",
              "      <td>1654069920000</td>\n",
              "      <td>0.60720000</td>\n",
              "      <td>0.60720000</td>\n",
              "      <td>0.60540000</td>\n",
              "      <td>0.60630000</td>\n",
              "      <td>309568.60000000</td>\n",
              "      <td>1654069979999</td>\n",
              "      <td>187593.02061000</td>\n",
              "      <td>295</td>\n",
              "      <td>49442.30000000</td>\n",
              "      <td>29971.99937000</td>\n",
              "      <td>0</td>\n",
              "    </tr>\n",
              "    <tr>\n",
              "      <th>98</th>\n",
              "      <td>1654069980000</td>\n",
              "      <td>0.60640000</td>\n",
              "      <td>0.60650000</td>\n",
              "      <td>0.60510000</td>\n",
              "      <td>0.60550000</td>\n",
              "      <td>69588.00000000</td>\n",
              "      <td>1654070039999</td>\n",
              "      <td>42136.92928000</td>\n",
              "      <td>119</td>\n",
              "      <td>39652.80000000</td>\n",
              "      <td>24011.16623000</td>\n",
              "      <td>0</td>\n",
              "    </tr>\n",
              "    <tr>\n",
              "      <th>99</th>\n",
              "      <td>1654070040000</td>\n",
              "      <td>0.60550000</td>\n",
              "      <td>0.60550000</td>\n",
              "      <td>0.60460000</td>\n",
              "      <td>0.60480000</td>\n",
              "      <td>106204.40000000</td>\n",
              "      <td>1654070099999</td>\n",
              "      <td>64256.36845000</td>\n",
              "      <td>173</td>\n",
              "      <td>53467.70000000</td>\n",
              "      <td>32344.92507000</td>\n",
              "      <td>0</td>\n",
              "    </tr>\n",
              "  </tbody>\n",
              "</table>\n",
              "<p>100 rows × 12 columns</p>\n",
              "</div>\n",
              "      <button class=\"colab-df-convert\" onclick=\"convertToInteractive('df-736b0b2d-80b6-476e-baed-aeeb5214c694')\"\n",
              "              title=\"Convert this dataframe to an interactive table.\"\n",
              "              style=\"display:none;\">\n",
              "        \n",
              "  <svg xmlns=\"http://www.w3.org/2000/svg\" height=\"24px\"viewBox=\"0 0 24 24\"\n",
              "       width=\"24px\">\n",
              "    <path d=\"M0 0h24v24H0V0z\" fill=\"none\"/>\n",
              "    <path d=\"M18.56 5.44l.94 2.06.94-2.06 2.06-.94-2.06-.94-.94-2.06-.94 2.06-2.06.94zm-11 1L8.5 8.5l.94-2.06 2.06-.94-2.06-.94L8.5 2.5l-.94 2.06-2.06.94zm10 10l.94 2.06.94-2.06 2.06-.94-2.06-.94-.94-2.06-.94 2.06-2.06.94z\"/><path d=\"M17.41 7.96l-1.37-1.37c-.4-.4-.92-.59-1.43-.59-.52 0-1.04.2-1.43.59L10.3 9.45l-7.72 7.72c-.78.78-.78 2.05 0 2.83L4 21.41c.39.39.9.59 1.41.59.51 0 1.02-.2 1.41-.59l7.78-7.78 2.81-2.81c.8-.78.8-2.07 0-2.86zM5.41 20L4 18.59l7.72-7.72 1.47 1.35L5.41 20z\"/>\n",
              "  </svg>\n",
              "      </button>\n",
              "      \n",
              "  <style>\n",
              "    .colab-df-container {\n",
              "      display:flex;\n",
              "      flex-wrap:wrap;\n",
              "      gap: 12px;\n",
              "    }\n",
              "\n",
              "    .colab-df-convert {\n",
              "      background-color: #E8F0FE;\n",
              "      border: none;\n",
              "      border-radius: 50%;\n",
              "      cursor: pointer;\n",
              "      display: none;\n",
              "      fill: #1967D2;\n",
              "      height: 32px;\n",
              "      padding: 0 0 0 0;\n",
              "      width: 32px;\n",
              "    }\n",
              "\n",
              "    .colab-df-convert:hover {\n",
              "      background-color: #E2EBFA;\n",
              "      box-shadow: 0px 1px 2px rgba(60, 64, 67, 0.3), 0px 1px 3px 1px rgba(60, 64, 67, 0.15);\n",
              "      fill: #174EA6;\n",
              "    }\n",
              "\n",
              "    [theme=dark] .colab-df-convert {\n",
              "      background-color: #3B4455;\n",
              "      fill: #D2E3FC;\n",
              "    }\n",
              "\n",
              "    [theme=dark] .colab-df-convert:hover {\n",
              "      background-color: #434B5C;\n",
              "      box-shadow: 0px 1px 3px 1px rgba(0, 0, 0, 0.15);\n",
              "      filter: drop-shadow(0px 1px 2px rgba(0, 0, 0, 0.3));\n",
              "      fill: #FFFFFF;\n",
              "    }\n",
              "  </style>\n",
              "\n",
              "      <script>\n",
              "        const buttonEl =\n",
              "          document.querySelector('#df-736b0b2d-80b6-476e-baed-aeeb5214c694 button.colab-df-convert');\n",
              "        buttonEl.style.display =\n",
              "          google.colab.kernel.accessAllowed ? 'block' : 'none';\n",
              "\n",
              "        async function convertToInteractive(key) {\n",
              "          const element = document.querySelector('#df-736b0b2d-80b6-476e-baed-aeeb5214c694');\n",
              "          const dataTable =\n",
              "            await google.colab.kernel.invokeFunction('convertToInteractive',\n",
              "                                                     [key], {});\n",
              "          if (!dataTable) return;\n",
              "\n",
              "          const docLinkHtml = 'Like what you see? Visit the ' +\n",
              "            '<a target=\"_blank\" href=https://colab.research.google.com/notebooks/data_table.ipynb>data table notebook</a>'\n",
              "            + ' to learn more about interactive tables.';\n",
              "          element.innerHTML = '';\n",
              "          dataTable['output_type'] = 'display_data';\n",
              "          await google.colab.output.renderOutput(dataTable, element);\n",
              "          const docLink = document.createElement('div');\n",
              "          docLink.innerHTML = docLinkHtml;\n",
              "          element.appendChild(docLink);\n",
              "        }\n",
              "      </script>\n",
              "    </div>\n",
              "  </div>\n",
              "  "
            ]
          },
          "metadata": {},
          "execution_count": 6
        }
      ]
    },
    {
      "cell_type": "code",
      "source": [
        "## Converto il Timestamp in Datatime\n",
        "df[0] = (pd.to_datetime(df[0],unit='ms'))"
      ],
      "metadata": {
        "id": "iz7TbpLD-rDA"
      },
      "execution_count": 7,
      "outputs": []
    },
    {
      "cell_type": "code",
      "source": [
        "## Elimino le colonne che non uso\n",
        "df = df.drop(columns=[6, 7, 8, 9, 10, 11])"
      ],
      "metadata": {
        "id": "PH4rKOwTIJVa"
      },
      "execution_count": 8,
      "outputs": []
    },
    {
      "cell_type": "code",
      "source": [
        "## Do dei nomi alle colonne\n",
        "df.columns = ['date', 'open', 'high', 'low', 'close', 'volume']"
      ],
      "metadata": {
        "id": "mMpCD5uqISvI"
      },
      "execution_count": 9,
      "outputs": []
    },
    {
      "cell_type": "code",
      "source": [
        "## Grafico chiusure di Cardano"
      ],
      "metadata": {
        "id": "Ybmq5hvcjMcg"
      },
      "execution_count": 10,
      "outputs": []
    },
    {
      "cell_type": "code",
      "source": [
        "import matplotlib.pyplot as plt"
      ],
      "metadata": {
        "id": "qtIiDFzylVAA"
      },
      "execution_count": 11,
      "outputs": []
    },
    {
      "cell_type": "code",
      "source": [
        "## Converto il formato della colonna Close\n",
        "df[\"close\"] = df[\"close\"].astype(float)"
      ],
      "metadata": {
        "id": "cMFvyI7oncaA"
      },
      "execution_count": 12,
      "outputs": []
    },
    {
      "cell_type": "code",
      "source": [
        "## Grafico la colonna Close\n",
        "df[\"close\"].plot()"
      ],
      "metadata": {
        "colab": {
          "base_uri": "https://localhost:8080/",
          "height": 282
        },
        "id": "OkQ1Bdk6S3TC",
        "outputId": "4029e7c8-7ba6-4e0b-98c1-367f3d744134"
      },
      "execution_count": 13,
      "outputs": [
        {
          "output_type": "execute_result",
          "data": {
            "text/plain": [
              "<matplotlib.axes._subplots.AxesSubplot at 0x7fa8e4eb9c10>"
            ]
          },
          "metadata": {},
          "execution_count": 13
        },
        {
          "output_type": "display_data",
          "data": {
            "text/plain": [
              "<Figure size 432x288 with 1 Axes>"
            ],
            "image/png": "[encoded data removed]"
          },
          "metadata": {
            "needs_background": "light"
          }
        }
      ]
    },
    {
      "cell_type": "code",
      "source": [
        "## Media mobile"
      ],
      "metadata": {
        "id": "PfZfma5ASqr8"
      },
      "execution_count": 14,
      "outputs": []
    },
    {
      "cell_type": "markdown",
      "source": [
        "$$SMA = \\frac{\\sum_{i=1}^{N}Pi}{N}$$"
      ],
      "metadata": {
        "id": "18cU7VBrSpty"
      }
    },
    {
      "cell_type": "code",
      "source": [
        "import numpy as np\n",
        "import matplotlib.pyplot as plt"
      ],
      "metadata": {
        "id": "CExpc7uZTMw4"
      },
      "execution_count": 45,
      "outputs": []
    },
    {
      "cell_type": "code",
      "source": [
        "cardano_data = df # Da sistemare a monte"
      ],
      "metadata": {
        "id": "QaPjz28ZTdpm"
      },
      "execution_count": 40,
      "outputs": []
    },
    {
      "cell_type": "code",
      "source": [
        "## Creo una funzione che crea un Dataframe e calcolo la mobile mobile.\n",
        "## Come parametri vuole un Dataframe (Con colonna close) e il periodo della\n",
        "## media mobile"
      ],
      "metadata": {
        "id": "G6e6m1k3XjJ4"
      },
      "execution_count": null,
      "outputs": []
    },
    {
      "cell_type": "code",
      "source": [
        "def media_mobile(dati, window):\n",
        "    segnali = pd.DataFrame(index=dati.index)\n",
        "    segnali['chiusura'] = dati['close']\n",
        "    segnali['media mobile'] = dati['close'].rolling(window=window,min_periods=1, center=False).mean()\n",
        "    return segnali\n",
        "\n",
        "mm=media_mobile(cardano_data,5)"
      ],
      "metadata": {
        "id": "14zCLnHvS_1s"
      },
      "execution_count": 41,
      "outputs": []
    },
    {
      "cell_type": "code",
      "source": [
        "## Grafico la colonna close e la colonna media mobile"
      ],
      "metadata": {
        "id": "7VHCCN7ZYfUK"
      },
      "execution_count": null,
      "outputs": []
    },
    {
      "cell_type": "code",
      "source": [
        "chiusura_plot = mm['chiusura']\n",
        "mm_plot = mm['media mobile']\n",
        "\n",
        "fig = plt.figure()\n",
        "ax1 = fig.add_subplot(111, ylabel='Cardano in $')\n",
        "chiusura_plot.plot(ax=ax1, color='g', lw=2., legend=True)\n",
        "mm_plot.plot(ax=ax1, color='r', lw=2., legend=True)\n",
        "plt.show()"
      ],
      "metadata": {
        "colab": {
          "base_uri": "https://localhost:8080/",
          "height": 265
        },
        "id": "IblZoFixTDzu",
        "outputId": "a2c524b4-1834-481b-9004-2c2b42bb5b4f"
      },
      "execution_count": 42,
      "outputs": [
        {
          "output_type": "display_data",
          "data": {
            "text/plain": [
              "<Figure size 432x288 with 1 Axes>"
            ],
            "image/png": "[encoded data removed]"
          },
          "metadata": {
            "needs_background": "light"
          }
        }
      ]
    },
    {
      "cell_type": "code",
      "source": [
        "## Doppia media mobile"
      ],
      "metadata": {
        "id": "LZC1l7kb-6ZN"
      },
      "execution_count": 16,
      "outputs": []
    },
    {
      "cell_type": "code",
      "source": [
        "def double_moving_average(financial_data, short_window, long_window):\n",
        "    signals = pd.DataFrame(index=financial_data.index)\n",
        "    signals['signal'] = 0.0\n",
        "    signals['short_mavg'] = financial_data['close'].rolling(window=short_window,min_periods=1, center=False).mean()\n",
        "    signals['long_mavg'] = financial_data['close'].rolling(window=long_window,min_periods=1, center=False).mean()\n",
        "    signals['signal'][short_window:] = np.where(signals['short_mavg'][short_window:] > signals['long_mavg'][short_window:], 1.0, 0.0)\n",
        "    signals['orders'] = signals['signal'].diff()\n",
        "    return signals\n",
        "\n",
        "ts=double_moving_average(cardano_data,5,10)"
      ],
      "metadata": {
        "id": "_I0ou7vtfLOp"
      },
      "execution_count": 43,
      "outputs": []
    },
    {
      "cell_type": "code",
      "source": [
        "fig = plt.figure()\n",
        "ax1 = fig.add_subplot(111, ylabel='Cardano in $')\n",
        "cardano_data[\"close\"].plot(ax=ax1, color='g', lw=.5)\n",
        "ts[\"short_mavg\"].plot(ax=ax1, color='r', lw=2.)\n",
        "ts[\"long_mavg\"].plot(ax=ax1, color='b', lw=2.)\n",
        "ax1.plot(ts.loc[ts.orders== 1.0].index,\n",
        "    cardano_data[\"close\"][ts.orders == 1.0],\n",
        "    '^', markersize=7, color='k')\n",
        "ax1.plot(ts.loc[ts.orders== -1.0].index,\n",
        "    cardano_data[\"close\"][ts.orders == -1.0],\n",
        "    'v', markersize=7, color='k')\n",
        "plt.legend([\"Price\",\"Short mavg\",\"Long mavg\",\"Buy\",\"Sell\"])\n",
        "plt.title(\"Doppia SMA\")\n",
        "plt.show()"
      ],
      "metadata": {
        "colab": {
          "base_uri": "https://localhost:8080/",
          "height": 281
        },
        "id": "tjMt9950f9bf",
        "outputId": "6da7d5b8-921a-4dca-df0c-2ebd9231b527"
      },
      "execution_count": 44,
      "outputs": [
        {
          "output_type": "display_data",
          "data": {
            "text/plain": [
              "<Figure size 432x288 with 1 Axes>"
            ],
            "image/png": "[encoded data removed]"
          },
          "metadata": {
            "needs_background": "light"
          }
        }
      ]
    }
  ]
}