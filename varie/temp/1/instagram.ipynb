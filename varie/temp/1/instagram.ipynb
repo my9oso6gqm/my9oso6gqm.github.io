{
 "cells": [
  {
   "cell_type": "code",
   "execution_count": null,
   "id": "acquired-lebanon",
   "metadata": {},
   "outputs": [],
   "source": [
    "from instagrapi import Client\n",
    "\n",
    "cl = Client()\n",
    "\n",
    "cl.login()\n",
    "\n",
    "media_path = '/home/2.mp4'\n",
    "\n",
    "cl.video_upload_to_story(media_path)"
   ]
  }
 ],
 "metadata": {
  "kernelspec": {
   "display_name": "Python 3",
   "language": "python",
   "name": "python3"
  },
  "language_info": {
   "codemirror_mode": {
    "name": "ipython",
    "version": 3
   },
   "file_extension": ".py",
   "mimetype": "text/x-python",
   "name": "python",
   "nbconvert_exporter": "python",
   "pygments_lexer": "ipython3",
   "version": "3.9.2"
  }
 },
 "nbformat": 4,
 "nbformat_minor": 5
}
