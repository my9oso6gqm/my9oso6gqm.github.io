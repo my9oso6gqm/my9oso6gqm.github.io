{
 "cells": [
  {
   "cell_type": "code",
   "execution_count": null,
   "id": "juvenile-enemy",
   "metadata": {},
   "outputs": [],
   "source": [
    "import statistics\n",
    "from binance.spot import Spot as Client\n",
    "import pandas as pd\n",
    "\n",
    "def dati(valuta, limite):\n",
    "    client = Client(base_url = 'https://api.binance.com')\n",
    "    dati = client.klines(valuta, '1m', limit = limite)\n",
    "    dati_df = pd.DataFrame(dati)\n",
    "    dati_df[0] = (pd.to_datetime(dati_df[0], unit = 'ms'))\n",
    "    dati_df = dati_df.drop(columns = [6, 7, 8, 9, 10, 11])\n",
    "    dati_df.columns = ['Date', 'Open', 'High', 'Low', 'Close', 'Volume']\n",
    "    dati_df = dati_df.set_index('Date')\n",
    "    dati_df['Open'] = dati_df['Open'].astype(float)\n",
    "    dati_df['High'] = dati_df['High'].astype(float)\n",
    "    dati_df['Low'] = dati_df['Low'].astype(float)\n",
    "    dati_df['Close'] = dati_df['Close'].astype(float)\n",
    "    dati_df['Volume'] = dati_df['Volume'].astype(float)\n",
    "    return dati_df"
   ]
  },
  {
   "cell_type": "code",
   "execution_count": null,
   "id": "median-neighborhood",
   "metadata": {},
   "outputs": [],
   "source": []
  }
 ],
 "metadata": {
  "kernelspec": {
   "display_name": "Python 3",
   "language": "python",
   "name": "python3"
  },
  "language_info": {
   "codemirror_mode": {
    "name": "ipython",
    "version": 3
   },
   "file_extension": ".py",
   "mimetype": "text/x-python",
   "name": "python",
   "nbconvert_exporter": "python",
   "pygments_lexer": "ipython3",
   "version": "3.9.2"
  }
 },
 "nbformat": 4,
 "nbformat_minor": 5
}
