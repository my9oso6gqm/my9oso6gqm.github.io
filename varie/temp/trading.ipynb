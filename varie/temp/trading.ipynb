{
  "nbformat": 4,
  "nbformat_minor": 0,
  "metadata": {
    "colab": {
      "name": "trading.ipynb",
      "provenance": []
    },
    "kernelspec": {
      "name": "python3",
      "display_name": "Python 3"
    },
    "language_info": {
      "name": "python"
    }
  },
  "cells": [
    {
      "cell_type": "code",
      "source": [
        "!pip install binance-connector mplfinance"
      ],
      "metadata": {
        "colab": {
          "base_uri": "https://localhost:8080/"
        },
        "id": "kX-9fgc0QgG8",
        "outputId": "8e97e7be-b120-4281-f1c1-e152cee8b7d1"
      },
      "execution_count": 1,
      "outputs": [
        {
          "output_type": "stream",
          "name": "stdout",
          "text": [
            "Collecting binance-connector\n",
            "  Downloading binance_connector-1.11.0-py3-none-any.whl (44 kB)\n",
            "\u001b[?25l\r\u001b[K     |███████▍                        | 10 kB 22.6 MB/s eta 0:00:01\r\u001b[K     |██████████████▊                 | 20 kB 30.8 MB/s eta 0:00:01\r\u001b[K     |██████████████████████          | 30 kB 38.0 MB/s eta 0:00:01\r\u001b[K     |█████████████████████████████▌  | 40 kB 13.7 MB/s eta 0:00:01\r\u001b[K     |████████████████████████████████| 44 kB 2.0 MB/s \n",
            "\u001b[?25hCollecting service-identity>=21.1.0\n",
            "  Downloading service_identity-21.1.0-py2.py3-none-any.whl (12 kB)\n",
            "Collecting Twisted>=21.2.0\n",
            "  Downloading Twisted-22.2.0-py3-none-any.whl (3.1 MB)\n",
            "\u001b[K     |████████████████████████████████| 3.1 MB 29.6 MB/s \n",
            "\u001b[?25hCollecting requests>=2.25.1\n",
            "  Downloading requests-2.27.1-py2.py3-none-any.whl (63 kB)\n",
            "\u001b[K     |████████████████████████████████| 63 kB 1.5 MB/s \n",
            "\u001b[?25hCollecting pyOpenSSL>=19.0.0\n",
            "  Downloading pyOpenSSL-22.0.0-py2.py3-none-any.whl (55 kB)\n",
            "\u001b[K     |████████████████████████████████| 55 kB 3.1 MB/s \n",
            "\u001b[?25hCollecting autobahn>=21.2.1\n",
            "  Downloading autobahn-22.2.2.tar.gz (375 kB)\n",
            "\u001b[K     |████████████████████████████████| 375 kB 64.4 MB/s \n",
            "\u001b[?25hCollecting txaio>=21.2.1\n",
            "  Downloading txaio-22.2.1-py2.py3-none-any.whl (30 kB)\n",
            "Collecting cryptography>=3.4.6\n",
            "  Downloading cryptography-36.0.1-cp36-abi3-manylinux_2_24_x86_64.whl (3.6 MB)\n",
            "\u001b[K     |████████████████████████████████| 3.6 MB 49.2 MB/s \n",
            "\u001b[?25hCollecting hyperlink>=21.0.0\n",
            "  Downloading hyperlink-21.0.0-py2.py3-none-any.whl (74 kB)\n",
            "\u001b[K     |████████████████████████████████| 74 kB 2.4 MB/s \n",
            "\u001b[?25hRequirement already satisfied: setuptools in /usr/local/lib/python3.7/dist-packages (from autobahn>=21.2.1->binance-connector) (57.4.0)\n",
            "Requirement already satisfied: cffi>=1.12 in /usr/local/lib/python3.7/dist-packages (from cryptography>=3.4.6->autobahn>=21.2.1->binance-connector) (1.15.0)\n",
            "Requirement already satisfied: pycparser in /usr/local/lib/python3.7/dist-packages (from cffi>=1.12->cryptography>=3.4.6->autobahn>=21.2.1->binance-connector) (2.21)\n",
            "Requirement already satisfied: idna>=2.5 in /usr/local/lib/python3.7/dist-packages (from hyperlink>=21.0.0->autobahn>=21.2.1->binance-connector) (2.10)\n",
            "Requirement already satisfied: charset-normalizer~=2.0.0 in /usr/local/lib/python3.7/dist-packages (from requests>=2.25.1->binance-connector) (2.0.12)\n",
            "Requirement already satisfied: certifi>=2017.4.17 in /usr/local/lib/python3.7/dist-packages (from requests>=2.25.1->binance-connector) (2021.10.8)\n",
            "Requirement already satisfied: urllib3<1.27,>=1.21.1 in /usr/local/lib/python3.7/dist-packages (from requests>=2.25.1->binance-connector) (1.24.3)\n",
            "Requirement already satisfied: pyasn1-modules in /usr/local/lib/python3.7/dist-packages (from service-identity>=21.1.0->binance-connector) (0.2.8)\n",
            "Requirement already satisfied: six in /usr/local/lib/python3.7/dist-packages (from service-identity>=21.1.0->binance-connector) (1.15.0)\n",
            "Requirement already satisfied: pyasn1 in /usr/local/lib/python3.7/dist-packages (from service-identity>=21.1.0->binance-connector) (0.4.8)\n",
            "Requirement already satisfied: attrs>=19.1.0 in /usr/local/lib/python3.7/dist-packages (from service-identity>=21.1.0->binance-connector) (21.4.0)\n",
            "Requirement already satisfied: typing-extensions>=3.6.5 in /usr/local/lib/python3.7/dist-packages (from Twisted>=21.2.0->binance-connector) (3.10.0.2)\n",
            "Collecting zope.interface>=4.4.2\n",
            "  Downloading zope.interface-5.4.0-cp37-cp37m-manylinux2010_x86_64.whl (251 kB)\n",
            "\u001b[K     |████████████████████████████████| 251 kB 57.2 MB/s \n",
            "\u001b[?25hCollecting Automat>=0.8.0\n",
            "  Downloading Automat-20.2.0-py2.py3-none-any.whl (31 kB)\n",
            "Collecting incremental>=21.3.0\n",
            "  Downloading incremental-21.3.0-py2.py3-none-any.whl (15 kB)\n",
            "Collecting constantly>=15.1\n",
            "  Downloading constantly-15.1.0-py2.py3-none-any.whl (7.9 kB)\n",
            "Building wheels for collected packages: autobahn\n",
            "  Building wheel for autobahn (setup.py) ... \u001b[?25l\u001b[?25hdone\n",
            "  Created wheel for autobahn: filename=autobahn-22.2.2-cp37-cp37m-linux_x86_64.whl size=552884 sha256=3595bfbf459179169ce6367001124b373aba65bb490e5dba4271727c380be0ce\n",
            "  Stored in directory: /root/.cache/pip/wheels/f8/ed/cc/ecc2f312adf884a2496272952ea3acf7c11417c56f64c9bdb8\n",
            "Successfully built autobahn\n",
            "Installing collected packages: zope.interface, txaio, incremental, hyperlink, cryptography, constantly, Automat, Twisted, service-identity, requests, pyOpenSSL, autobahn, binance-connector\n",
            "  Attempting uninstall: requests\n",
            "    Found existing installation: requests 2.23.0\n",
            "    Uninstalling requests-2.23.0:\n",
            "      Successfully uninstalled requests-2.23.0\n",
            "\u001b[31mERROR: pip's dependency resolver does not currently take into account all the packages that are installed. This behaviour is the source of the following dependency conflicts.\n",
            "google-colab 1.0.0 requires requests~=2.23.0, but you have requests 2.27.1 which is incompatible.\n",
            "datascience 0.10.6 requires folium==0.2.1, but you have folium 0.8.3 which is incompatible.\u001b[0m\n",
            "Successfully installed Automat-20.2.0 Twisted-22.2.0 autobahn-22.2.2 binance-connector-1.11.0 constantly-15.1.0 cryptography-36.0.1 hyperlink-21.0.0 incremental-21.3.0 pyOpenSSL-22.0.0 requests-2.27.1 service-identity-21.1.0 txaio-22.2.1 zope.interface-5.4.0\n"
          ]
        }
      ]
    },
    {
      "cell_type": "code",
      "source": [
        "from binance.spot import Spot as Client\n",
        "import pandas as pd\n",
        "import mplfinance as mpf"
      ],
      "metadata": {
        "id": "9_n367M6VwMf"
      },
      "execution_count": 2,
      "outputs": []
    },
    {
      "cell_type": "code",
      "source": [
        "spot_client = Client(base_url=\"https://api.binance.com\")"
      ],
      "metadata": {
        "id": "jYuitX2Q6iSJ"
      },
      "execution_count": 3,
      "outputs": []
    },
    {
      "cell_type": "code",
      "source": [
        "spot_client.ticker_price(\"BTCUSDT\")"
      ],
      "metadata": {
        "id": "R6Jien8o6c0G",
        "colab": {
          "base_uri": "https://localhost:8080/"
        },
        "outputId": "75b3427e-e26b-4e39-9abf-e414ff7377c0"
      },
      "execution_count": null,
      "outputs": [
        {
          "output_type": "execute_result",
          "data": {
            "text/plain": [
              "{'price': '38196.53000000', 'symbol': 'BTCUSDT'}"
            ]
          },
          "metadata": {},
          "execution_count": 57
        }
      ]
    },
    {
      "cell_type": "code",
      "source": [
        "data = spot_client.klines(\"BTCUSDT\", \"1h\", limit=24)"
      ],
      "metadata": {
        "id": "Mltx6_gyaL1D"
      },
      "execution_count": 102,
      "outputs": []
    },
    {
      "cell_type": "code",
      "source": [
        "df = pd.DataFrame(data)"
      ],
      "metadata": {
        "id": "Dw0OY3A3bJZl"
      },
      "execution_count": 103,
      "outputs": []
    },
    {
      "cell_type": "code",
      "source": [
        "df[0]=(pd.to_datetime(df[0],unit='ms'))"
      ],
      "metadata": {
        "id": "iu3LZJCUhEwV"
      },
      "execution_count": 105,
      "outputs": []
    },
    {
      "cell_type": "code",
      "source": [
        "df.drop(6, axis=1, inplace=True)"
      ],
      "metadata": {
        "id": "bEpf1tjD0ZrQ"
      },
      "execution_count": 111,
      "outputs": []
    },
    {
      "cell_type": "code",
      "source": [
        "df.drop(7, axis=1, inplace=True)"
      ],
      "metadata": {
        "id": "CPFRijr5vlGV"
      },
      "execution_count": null,
      "outputs": []
    },
    {
      "cell_type": "code",
      "source": [
        "df.drop(8, axis=1, inplace=True)"
      ],
      "metadata": {
        "id": "thyRQxKxvmsj"
      },
      "execution_count": null,
      "outputs": []
    },
    {
      "cell_type": "code",
      "source": [
        "df.drop(9, axis=1, inplace=True)"
      ],
      "metadata": {
        "id": "eao5t5uGvm_u"
      },
      "execution_count": null,
      "outputs": []
    },
    {
      "cell_type": "code",
      "source": [
        "df.drop(10, axis=1, inplace=True)"
      ],
      "metadata": {
        "id": "c_QlJJGMvnS-"
      },
      "execution_count": null,
      "outputs": []
    },
    {
      "cell_type": "code",
      "source": [
        "df.drop(11, axis=1, inplace=True)"
      ],
      "metadata": {
        "id": "uJsVyoRovnqT"
      },
      "execution_count": null,
      "outputs": []
    },
    {
      "cell_type": "markdown",
      "source": [
        ""
      ],
      "metadata": {
        "id": "VDsQApp5gxza"
      }
    },
    {
      "cell_type": "code",
      "source": [
        "df.index = pd.DatetimeIndex(df[0])"
      ],
      "metadata": {
        "id": "zcLKyIZmhT6C"
      },
      "execution_count": 113,
      "outputs": []
    },
    {
      "cell_type": "code",
      "source": [
        "df.columns = ['Date', 'Open', 'High', 'Low', 'Close', 'Volume']"
      ],
      "metadata": {
        "id": "-U8mt7yEhmv3"
      },
      "execution_count": 115,
      "outputs": []
    },
    {
      "cell_type": "code",
      "source": [
        "df.info()"
      ],
      "metadata": {
        "colab": {
          "base_uri": "https://localhost:8080/"
        },
        "id": "68-AR6RBjagm",
        "outputId": "976ac29f-4e28-4d17-ea01-2c9becf3e610"
      },
      "execution_count": 90,
      "outputs": [
        {
          "output_type": "stream",
          "name": "stdout",
          "text": [
            "<class 'pandas.core.frame.DataFrame'>\n",
            "DatetimeIndex: 24 entries, 2022-03-13 23:00:00 to 2022-03-14 22:00:00\n",
            "Data columns (total 6 columns):\n",
            " #   Column  Non-Null Count  Dtype         \n",
            "---  ------  --------------  -----         \n",
            " 0   Date    24 non-null     datetime64[ns]\n",
            " 1   Open    24 non-null     object        \n",
            " 2   High    24 non-null     object        \n",
            " 3   Low     24 non-null     object        \n",
            " 4   Close   24 non-null     object        \n",
            " 5   Volume  24 non-null     object        \n",
            "dtypes: datetime64[ns](1), object(5)\n",
            "memory usage: 1.3+ KB\n"
          ]
        }
      ]
    },
    {
      "cell_type": "code",
      "source": [
        "df[\"Open\"]=df.Open.astype(float)"
      ],
      "metadata": {
        "id": "WPDx0_s9kAie"
      },
      "execution_count": 120,
      "outputs": []
    },
    {
      "cell_type": "code",
      "source": [
        "df[\"High\"]=df.High.astype(float)"
      ],
      "metadata": {
        "id": "jFgXtQA1kt7x"
      },
      "execution_count": 124,
      "outputs": []
    },
    {
      "cell_type": "code",
      "source": [
        "df[\"Low\"]=df.Low.astype(float)"
      ],
      "metadata": {
        "id": "ElFGnlukwg4C"
      },
      "execution_count": null,
      "outputs": []
    },
    {
      "cell_type": "code",
      "source": [
        "df[\"Close\"]=df.Close.astype(float)"
      ],
      "metadata": {
        "id": "ZL_9d8f6wYxE"
      },
      "execution_count": null,
      "outputs": []
    },
    {
      "cell_type": "code",
      "source": [
        "df[\"Volume\"]=df.Volume.astype(float)"
      ],
      "metadata": {
        "id": "Tu1UWi73wvbo"
      },
      "execution_count": null,
      "outputs": []
    },
    {
      "cell_type": "code",
      "source": [
        "df.info()"
      ],
      "metadata": {
        "colab": {
          "base_uri": "https://localhost:8080/"
        },
        "id": "O9lXAGztw2wu",
        "outputId": "78ccb5a9-c3a9-4269-fe5d-7aea92c8939e"
      },
      "execution_count": 125,
      "outputs": [
        {
          "output_type": "stream",
          "name": "stdout",
          "text": [
            "<class 'pandas.core.frame.DataFrame'>\n",
            "DatetimeIndex: 24 entries, 2022-03-13 23:00:00 to 2022-03-14 22:00:00\n",
            "Data columns (total 6 columns):\n",
            " #   Column  Non-Null Count  Dtype         \n",
            "---  ------  --------------  -----         \n",
            " 0   Date    24 non-null     datetime64[ns]\n",
            " 1   Open    24 non-null     float64       \n",
            " 2   High    24 non-null     float64       \n",
            " 3   Low     24 non-null     float64       \n",
            " 4   Close   24 non-null     float64       \n",
            " 5   Volume  24 non-null     float64       \n",
            "dtypes: datetime64[ns](1), float64(5)\n",
            "memory usage: 1.3 KB\n"
          ]
        }
      ]
    },
    {
      "cell_type": "code",
      "source": [
        "df"
      ],
      "metadata": {
        "colab": {
          "base_uri": "https://localhost:8080/",
          "height": 834
        },
        "id": "-g_5gob1w6hq",
        "outputId": "014fd2a1-cf92-48bc-9224-db2669305ca0"
      },
      "execution_count": 126,
      "outputs": [
        {
          "output_type": "execute_result",
          "data": {
            "text/plain": [
              "                                   Date      Open      High       Low  \\\n",
              "0                                                                       \n",
              "2022-03-13 23:00:00 2022-03-13 23:00:00  37720.93  37896.72  37578.51   \n",
              "2022-03-14 00:00:00 2022-03-14 00:00:00  37777.35  37883.91  37555.00   \n",
              "2022-03-14 01:00:00 2022-03-14 01:00:00  37842.40  38357.75  37842.39   \n",
              "2022-03-14 02:00:00 2022-03-14 02:00:00  38064.35  38188.00  37991.30   \n",
              "2022-03-14 03:00:00 2022-03-14 03:00:00  38045.31  38179.81  37975.40   \n",
              "2022-03-14 04:00:00 2022-03-14 04:00:00  38144.06  38921.00  38126.29   \n",
              "2022-03-14 05:00:00 2022-03-14 05:00:00  38519.86  38610.00  38450.24   \n",
              "2022-03-14 06:00:00 2022-03-14 06:00:00  38468.02  38773.15  38458.96   \n",
              "2022-03-14 07:00:00 2022-03-14 07:00:00  38658.63  39184.66  38631.45   \n",
              "2022-03-14 08:00:00 2022-03-14 08:00:00  39078.91  39239.42  38942.56   \n",
              "2022-03-14 09:00:00 2022-03-14 09:00:00  39077.00  39299.98  38853.74   \n",
              "2022-03-14 10:00:00 2022-03-14 10:00:00  39154.99  39181.46  38969.38   \n",
              "2022-03-14 11:00:00 2022-03-14 11:00:00  39100.56  39118.00  38842.89   \n",
              "2022-03-14 12:00:00 2022-03-14 12:00:00  38897.64  38987.40  38675.03   \n",
              "2022-03-14 13:00:00 2022-03-14 13:00:00  38845.12  38970.00  38612.01   \n",
              "2022-03-14 14:00:00 2022-03-14 14:00:00  38873.91  39174.79  38745.00   \n",
              "2022-03-14 15:00:00 2022-03-14 15:00:00  39131.53  39160.78  38823.36   \n",
              "2022-03-14 16:00:00 2022-03-14 16:00:00  38964.26  39055.00  38812.07   \n",
              "2022-03-14 17:00:00 2022-03-14 17:00:00  38836.66  38848.01  38552.23   \n",
              "2022-03-14 18:00:00 2022-03-14 18:00:00  38736.42  38787.39  38415.40   \n",
              "2022-03-14 19:00:00 2022-03-14 19:00:00  38675.00  38864.84  38615.00   \n",
              "2022-03-14 20:00:00 2022-03-14 20:00:00  38814.18  38940.00  38702.00   \n",
              "2022-03-14 21:00:00 2022-03-14 21:00:00  38723.35  38787.21  38606.41   \n",
              "2022-03-14 22:00:00 2022-03-14 22:00:00  38729.97  39947.12  38677.68   \n",
              "\n",
              "                        Close      Volume  \n",
              "0                                          \n",
              "2022-03-13 23:00:00  37777.34  2775.32975  \n",
              "2022-03-14 00:00:00  37842.40  1923.94420  \n",
              "2022-03-14 01:00:00  38062.99  2829.41806  \n",
              "2022-03-14 02:00:00  38045.31  1120.64754  \n",
              "2022-03-14 03:00:00  38144.05  1126.91486  \n",
              "2022-03-14 04:00:00  38519.86  3299.68149  \n",
              "2022-03-14 05:00:00  38468.03   908.78091  \n",
              "2022-03-14 06:00:00  38658.62  1689.70275  \n",
              "2022-03-14 07:00:00  39078.92  3283.10517  \n",
              "2022-03-14 08:00:00  39077.00  2171.44334  \n",
              "2022-03-14 09:00:00  39155.00  1902.55236  \n",
              "2022-03-14 10:00:00  39100.56  1005.37456  \n",
              "2022-03-14 11:00:00  38897.64  1211.87631  \n",
              "2022-03-14 12:00:00  38845.11  1793.54327  \n",
              "2022-03-14 13:00:00  38873.90  2469.71724  \n",
              "2022-03-14 14:00:00  39131.54  2944.78131  \n",
              "2022-03-14 15:00:00  38964.25  1906.54258  \n",
              "2022-03-14 16:00:00  38836.65  1531.68785  \n",
              "2022-03-14 17:00:00  38736.43  1893.21383  \n",
              "2022-03-14 18:00:00  38675.00  1724.01220  \n",
              "2022-03-14 19:00:00  38813.00  1508.83502  \n",
              "2022-03-14 20:00:00  38723.35  1015.60887  \n",
              "2022-03-14 21:00:00  38729.97   698.12721  \n",
              "2022-03-14 22:00:00  39647.86  3771.91260  "
            ],
            "text/html": [
              "\n",
              "  <div id=\"df-5dbad2b1-f384-4063-b652-1cb00deb4655\">\n",
              "    <div class=\"colab-df-container\">\n",
              "      <div>\n",
              "<style scoped>\n",
              "    .dataframe tbody tr th:only-of-type {\n",
              "        vertical-align: middle;\n",
              "    }\n",
              "\n",
              "    .dataframe tbody tr th {\n",
              "        vertical-align: top;\n",
              "    }\n",
              "\n",
              "    .dataframe thead th {\n",
              "        text-align: right;\n",
              "    }\n",
              "</style>\n",
              "<table border=\"1\" class=\"dataframe\">\n",
              "  <thead>\n",
              "    <tr style=\"text-align: right;\">\n",
              "      <th></th>\n",
              "      <th>Date</th>\n",
              "      <th>Open</th>\n",
              "      <th>High</th>\n",
              "      <th>Low</th>\n",
              "      <th>Close</th>\n",
              "      <th>Volume</th>\n",
              "    </tr>\n",
              "    <tr>\n",
              "      <th>0</th>\n",
              "      <th></th>\n",
              "      <th></th>\n",
              "      <th></th>\n",
              "      <th></th>\n",
              "      <th></th>\n",
              "      <th></th>\n",
              "    </tr>\n",
              "  </thead>\n",
              "  <tbody>\n",
              "    <tr>\n",
              "      <th>2022-03-13 23:00:00</th>\n",
              "      <td>2022-03-13 23:00:00</td>\n",
              "      <td>37720.93</td>\n",
              "      <td>37896.72</td>\n",
              "      <td>37578.51</td>\n",
              "      <td>37777.34</td>\n",
              "      <td>2775.32975</td>\n",
              "    </tr>\n",
              "    <tr>\n",
              "      <th>2022-03-14 00:00:00</th>\n",
              "      <td>2022-03-14 00:00:00</td>\n",
              "      <td>37777.35</td>\n",
              "      <td>37883.91</td>\n",
              "      <td>37555.00</td>\n",
              "      <td>37842.40</td>\n",
              "      <td>1923.94420</td>\n",
              "    </tr>\n",
              "    <tr>\n",
              "      <th>2022-03-14 01:00:00</th>\n",
              "      <td>2022-03-14 01:00:00</td>\n",
              "      <td>37842.40</td>\n",
              "      <td>38357.75</td>\n",
              "      <td>37842.39</td>\n",
              "      <td>38062.99</td>\n",
              "      <td>2829.41806</td>\n",
              "    </tr>\n",
              "    <tr>\n",
              "      <th>2022-03-14 02:00:00</th>\n",
              "      <td>2022-03-14 02:00:00</td>\n",
              "      <td>38064.35</td>\n",
              "      <td>38188.00</td>\n",
              "      <td>37991.30</td>\n",
              "      <td>38045.31</td>\n",
              "      <td>1120.64754</td>\n",
              "    </tr>\n",
              "    <tr>\n",
              "      <th>2022-03-14 03:00:00</th>\n",
              "      <td>2022-03-14 03:00:00</td>\n",
              "      <td>38045.31</td>\n",
              "      <td>38179.81</td>\n",
              "      <td>37975.40</td>\n",
              "      <td>38144.05</td>\n",
              "      <td>1126.91486</td>\n",
              "    </tr>\n",
              "    <tr>\n",
              "      <th>2022-03-14 04:00:00</th>\n",
              "      <td>2022-03-14 04:00:00</td>\n",
              "      <td>38144.06</td>\n",
              "      <td>38921.00</td>\n",
              "      <td>38126.29</td>\n",
              "      <td>38519.86</td>\n",
              "      <td>3299.68149</td>\n",
              "    </tr>\n",
              "    <tr>\n",
              "      <th>2022-03-14 05:00:00</th>\n",
              "      <td>2022-03-14 05:00:00</td>\n",
              "      <td>38519.86</td>\n",
              "      <td>38610.00</td>\n",
              "      <td>38450.24</td>\n",
              "      <td>38468.03</td>\n",
              "      <td>908.78091</td>\n",
              "    </tr>\n",
              "    <tr>\n",
              "      <th>2022-03-14 06:00:00</th>\n",
              "      <td>2022-03-14 06:00:00</td>\n",
              "      <td>38468.02</td>\n",
              "      <td>38773.15</td>\n",
              "      <td>38458.96</td>\n",
              "      <td>38658.62</td>\n",
              "      <td>1689.70275</td>\n",
              "    </tr>\n",
              "    <tr>\n",
              "      <th>2022-03-14 07:00:00</th>\n",
              "      <td>2022-03-14 07:00:00</td>\n",
              "      <td>38658.63</td>\n",
              "      <td>39184.66</td>\n",
              "      <td>38631.45</td>\n",
              "      <td>39078.92</td>\n",
              "      <td>3283.10517</td>\n",
              "    </tr>\n",
              "    <tr>\n",
              "      <th>2022-03-14 08:00:00</th>\n",
              "      <td>2022-03-14 08:00:00</td>\n",
              "      <td>39078.91</td>\n",
              "      <td>39239.42</td>\n",
              "      <td>38942.56</td>\n",
              "      <td>39077.00</td>\n",
              "      <td>2171.44334</td>\n",
              "    </tr>\n",
              "    <tr>\n",
              "      <th>2022-03-14 09:00:00</th>\n",
              "      <td>2022-03-14 09:00:00</td>\n",
              "      <td>39077.00</td>\n",
              "      <td>39299.98</td>\n",
              "      <td>38853.74</td>\n",
              "      <td>39155.00</td>\n",
              "      <td>1902.55236</td>\n",
              "    </tr>\n",
              "    <tr>\n",
              "      <th>2022-03-14 10:00:00</th>\n",
              "      <td>2022-03-14 10:00:00</td>\n",
              "      <td>39154.99</td>\n",
              "      <td>39181.46</td>\n",
              "      <td>38969.38</td>\n",
              "      <td>39100.56</td>\n",
              "      <td>1005.37456</td>\n",
              "    </tr>\n",
              "    <tr>\n",
              "      <th>2022-03-14 11:00:00</th>\n",
              "      <td>2022-03-14 11:00:00</td>\n",
              "      <td>39100.56</td>\n",
              "      <td>39118.00</td>\n",
              "      <td>38842.89</td>\n",
              "      <td>38897.64</td>\n",
              "      <td>1211.87631</td>\n",
              "    </tr>\n",
              "    <tr>\n",
              "      <th>2022-03-14 12:00:00</th>\n",
              "      <td>2022-03-14 12:00:00</td>\n",
              "      <td>38897.64</td>\n",
              "      <td>38987.40</td>\n",
              "      <td>38675.03</td>\n",
              "      <td>38845.11</td>\n",
              "      <td>1793.54327</td>\n",
              "    </tr>\n",
              "    <tr>\n",
              "      <th>2022-03-14 13:00:00</th>\n",
              "      <td>2022-03-14 13:00:00</td>\n",
              "      <td>38845.12</td>\n",
              "      <td>38970.00</td>\n",
              "      <td>38612.01</td>\n",
              "      <td>38873.90</td>\n",
              "      <td>2469.71724</td>\n",
              "    </tr>\n",
              "    <tr>\n",
              "      <th>2022-03-14 14:00:00</th>\n",
              "      <td>2022-03-14 14:00:00</td>\n",
              "      <td>38873.91</td>\n",
              "      <td>39174.79</td>\n",
              "      <td>38745.00</td>\n",
              "      <td>39131.54</td>\n",
              "      <td>2944.78131</td>\n",
              "    </tr>\n",
              "    <tr>\n",
              "      <th>2022-03-14 15:00:00</th>\n",
              "      <td>2022-03-14 15:00:00</td>\n",
              "      <td>39131.53</td>\n",
              "      <td>39160.78</td>\n",
              "      <td>38823.36</td>\n",
              "      <td>38964.25</td>\n",
              "      <td>1906.54258</td>\n",
              "    </tr>\n",
              "    <tr>\n",
              "      <th>2022-03-14 16:00:00</th>\n",
              "      <td>2022-03-14 16:00:00</td>\n",
              "      <td>38964.26</td>\n",
              "      <td>39055.00</td>\n",
              "      <td>38812.07</td>\n",
              "      <td>38836.65</td>\n",
              "      <td>1531.68785</td>\n",
              "    </tr>\n",
              "    <tr>\n",
              "      <th>2022-03-14 17:00:00</th>\n",
              "      <td>2022-03-14 17:00:00</td>\n",
              "      <td>38836.66</td>\n",
              "      <td>38848.01</td>\n",
              "      <td>38552.23</td>\n",
              "      <td>38736.43</td>\n",
              "      <td>1893.21383</td>\n",
              "    </tr>\n",
              "    <tr>\n",
              "      <th>2022-03-14 18:00:00</th>\n",
              "      <td>2022-03-14 18:00:00</td>\n",
              "      <td>38736.42</td>\n",
              "      <td>38787.39</td>\n",
              "      <td>38415.40</td>\n",
              "      <td>38675.00</td>\n",
              "      <td>1724.01220</td>\n",
              "    </tr>\n",
              "    <tr>\n",
              "      <th>2022-03-14 19:00:00</th>\n",
              "      <td>2022-03-14 19:00:00</td>\n",
              "      <td>38675.00</td>\n",
              "      <td>38864.84</td>\n",
              "      <td>38615.00</td>\n",
              "      <td>38813.00</td>\n",
              "      <td>1508.83502</td>\n",
              "    </tr>\n",
              "    <tr>\n",
              "      <th>2022-03-14 20:00:00</th>\n",
              "      <td>2022-03-14 20:00:00</td>\n",
              "      <td>38814.18</td>\n",
              "      <td>38940.00</td>\n",
              "      <td>38702.00</td>\n",
              "      <td>38723.35</td>\n",
              "      <td>1015.60887</td>\n",
              "    </tr>\n",
              "    <tr>\n",
              "      <th>2022-03-14 21:00:00</th>\n",
              "      <td>2022-03-14 21:00:00</td>\n",
              "      <td>38723.35</td>\n",
              "      <td>38787.21</td>\n",
              "      <td>38606.41</td>\n",
              "      <td>38729.97</td>\n",
              "      <td>698.12721</td>\n",
              "    </tr>\n",
              "    <tr>\n",
              "      <th>2022-03-14 22:00:00</th>\n",
              "      <td>2022-03-14 22:00:00</td>\n",
              "      <td>38729.97</td>\n",
              "      <td>39947.12</td>\n",
              "      <td>38677.68</td>\n",
              "      <td>39647.86</td>\n",
              "      <td>3771.91260</td>\n",
              "    </tr>\n",
              "  </tbody>\n",
              "</table>\n",
              "</div>\n",
              "      <button class=\"colab-df-convert\" onclick=\"convertToInteractive('df-5dbad2b1-f384-4063-b652-1cb00deb4655')\"\n",
              "              title=\"Convert this dataframe to an interactive table.\"\n",
              "              style=\"display:none;\">\n",
              "        \n",
              "  <svg xmlns=\"http://www.w3.org/2000/svg\" height=\"24px\"viewBox=\"0 0 24 24\"\n",
              "       width=\"24px\">\n",
              "    <path d=\"M0 0h24v24H0V0z\" fill=\"none\"/>\n",
              "    <path d=\"M18.56 5.44l.94 2.06.94-2.06 2.06-.94-2.06-.94-.94-2.06-.94 2.06-2.06.94zm-11 1L8.5 8.5l.94-2.06 2.06-.94-2.06-.94L8.5 2.5l-.94 2.06-2.06.94zm10 10l.94 2.06.94-2.06 2.06-.94-2.06-.94-.94-2.06-.94 2.06-2.06.94z\"/><path d=\"M17.41 7.96l-1.37-1.37c-.4-.4-.92-.59-1.43-.59-.52 0-1.04.2-1.43.59L10.3 9.45l-7.72 7.72c-.78.78-.78 2.05 0 2.83L4 21.41c.39.39.9.59 1.41.59.51 0 1.02-.2 1.41-.59l7.78-7.78 2.81-2.81c.8-.78.8-2.07 0-2.86zM5.41 20L4 18.59l7.72-7.72 1.47 1.35L5.41 20z\"/>\n",
              "  </svg>\n",
              "      </button>\n",
              "      \n",
              "  <style>\n",
              "    .colab-df-container {\n",
              "      display:flex;\n",
              "      flex-wrap:wrap;\n",
              "      gap: 12px;\n",
              "    }\n",
              "\n",
              "    .colab-df-convert {\n",
              "      background-color: #E8F0FE;\n",
              "      border: none;\n",
              "      border-radius: 50%;\n",
              "      cursor: pointer;\n",
              "      display: none;\n",
              "      fill: #1967D2;\n",
              "      height: 32px;\n",
              "      padding: 0 0 0 0;\n",
              "      width: 32px;\n",
              "    }\n",
              "\n",
              "    .colab-df-convert:hover {\n",
              "      background-color: #E2EBFA;\n",
              "      box-shadow: 0px 1px 2px rgba(60, 64, 67, 0.3), 0px 1px 3px 1px rgba(60, 64, 67, 0.15);\n",
              "      fill: #174EA6;\n",
              "    }\n",
              "\n",
              "    [theme=dark] .colab-df-convert {\n",
              "      background-color: #3B4455;\n",
              "      fill: #D2E3FC;\n",
              "    }\n",
              "\n",
              "    [theme=dark] .colab-df-convert:hover {\n",
              "      background-color: #434B5C;\n",
              "      box-shadow: 0px 1px 3px 1px rgba(0, 0, 0, 0.15);\n",
              "      filter: drop-shadow(0px 1px 2px rgba(0, 0, 0, 0.3));\n",
              "      fill: #FFFFFF;\n",
              "    }\n",
              "  </style>\n",
              "\n",
              "      <script>\n",
              "        const buttonEl =\n",
              "          document.querySelector('#df-5dbad2b1-f384-4063-b652-1cb00deb4655 button.colab-df-convert');\n",
              "        buttonEl.style.display =\n",
              "          google.colab.kernel.accessAllowed ? 'block' : 'none';\n",
              "\n",
              "        async function convertToInteractive(key) {\n",
              "          const element = document.querySelector('#df-5dbad2b1-f384-4063-b652-1cb00deb4655');\n",
              "          const dataTable =\n",
              "            await google.colab.kernel.invokeFunction('convertToInteractive',\n",
              "                                                     [key], {});\n",
              "          if (!dataTable) return;\n",
              "\n",
              "          const docLinkHtml = 'Like what you see? Visit the ' +\n",
              "            '<a target=\"_blank\" href=https://colab.research.google.com/notebooks/data_table.ipynb>data table notebook</a>'\n",
              "            + ' to learn more about interactive tables.';\n",
              "          element.innerHTML = '';\n",
              "          dataTable['output_type'] = 'display_data';\n",
              "          await google.colab.output.renderOutput(dataTable, element);\n",
              "          const docLink = document.createElement('div');\n",
              "          docLink.innerHTML = docLinkHtml;\n",
              "          element.appendChild(docLink);\n",
              "        }\n",
              "      </script>\n",
              "    </div>\n",
              "  </div>\n",
              "  "
            ]
          },
          "metadata": {},
          "execution_count": 126
        }
      ]
    },
    {
      "cell_type": "code",
      "source": [
        "mpf.plot(df,type='candle')"
      ],
      "metadata": {
        "colab": {
          "base_uri": "https://localhost:8080/",
          "height": 527
        },
        "outputId": "bc896a60-5e66-4e7f-a8af-cd684031fac3",
        "id": "MtNrKpqclc6j"
      },
      "execution_count": 127,
      "outputs": [
        {
          "output_type": "display_data",
          "data": {
            "text/plain": [
              "<Figure size 800x575 with 2 Axes>"
            ],
            "image/png": "[encoded data removed]"
          },
          "metadata": {}
        }
      ]
    },
    {
      "cell_type": "code",
      "source": [
        ""
      ],
      "metadata": {
        "id": "TbJRLCA9pGv1"
      },
      "execution_count": null,
      "outputs": []
    }
  ]
}