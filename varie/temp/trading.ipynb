{
  "nbformat": 4,
  "nbformat_minor": 0,
  "metadata": {
    "colab": {
      "name": "trading.ipynb",
      "provenance": [],
      "authorship_tag": "ABX9TyOoZJQDi5HZoZxM3jr+w7hh",
      "include_colab_link": true
    },
    "kernelspec": {
      "name": "python3",
      "display_name": "Python 3"
    },
    "language_info": {
      "name": "python"
    }
  },
  "cells": [
    {
      "cell_type": "markdown",
      "metadata": {
        "id": "view-in-github",
        "colab_type": "text"
      },
      "source": [
        "<a href=\"https://colab.research.google.com/github/my9oso6gqm/my9oso6gqm.github.io/blob/main/varie/temp/trading.ipynb\" target=\"_parent\"><img src=\"https://colab.research.google.com/assets/colab-badge.svg\" alt=\"Open In Colab\"/></a>"
      ]
    },
    {
      "cell_type": "code",
      "source": [
        "## Recupero dati da Binance"
      ],
      "metadata": {
        "id": "ZNaD7jEejbiJ"
      },
      "execution_count": 1,
      "outputs": []
    },
    {
      "cell_type": "code",
      "execution_count": 2,
      "metadata": {
        "colab": {
          "base_uri": "https://localhost:8080/"
        },
        "id": "ZkjjbjxeoOi9",
        "outputId": "a0bf8f17-9471-47da-ed32-8670935fdb6e"
      },
      "outputs": [
        {
          "output_type": "stream",
          "name": "stdout",
          "text": [
            "Requirement already satisfied: binance-connector in /usr/local/lib/python3.7/dist-packages (1.12.0)\n",
            "Requirement already satisfied: requests>=2.25.1 in /usr/local/lib/python3.7/dist-packages (from binance-connector) (2.27.1)\n",
            "Requirement already satisfied: Twisted>=21.2.0 in /usr/local/lib/python3.7/dist-packages (from binance-connector) (22.4.0)\n",
            "Requirement already satisfied: autobahn>=21.2.1 in /usr/local/lib/python3.7/dist-packages (from binance-connector) (22.4.2)\n",
            "Requirement already satisfied: service-identity>=21.1.0 in /usr/local/lib/python3.7/dist-packages (from binance-connector) (21.1.0)\n",
            "Requirement already satisfied: pyOpenSSL>=19.0.0 in /usr/local/lib/python3.7/dist-packages (from binance-connector) (22.0.0)\n",
            "Requirement already satisfied: cryptography>=3.4.6 in /usr/local/lib/python3.7/dist-packages (from autobahn>=21.2.1->binance-connector) (37.0.2)\n",
            "Requirement already satisfied: txaio>=21.2.1 in /usr/local/lib/python3.7/dist-packages (from autobahn>=21.2.1->binance-connector) (22.2.1)\n",
            "Requirement already satisfied: hyperlink>=21.0.0 in /usr/local/lib/python3.7/dist-packages (from autobahn>=21.2.1->binance-connector) (21.0.0)\n",
            "Requirement already satisfied: setuptools in /usr/local/lib/python3.7/dist-packages (from autobahn>=21.2.1->binance-connector) (57.4.0)\n",
            "Requirement already satisfied: cffi>=1.12 in /usr/local/lib/python3.7/dist-packages (from cryptography>=3.4.6->autobahn>=21.2.1->binance-connector) (1.15.0)\n",
            "Requirement already satisfied: pycparser in /usr/local/lib/python3.7/dist-packages (from cffi>=1.12->cryptography>=3.4.6->autobahn>=21.2.1->binance-connector) (2.21)\n",
            "Requirement already satisfied: idna>=2.5 in /usr/local/lib/python3.7/dist-packages (from hyperlink>=21.0.0->autobahn>=21.2.1->binance-connector) (2.10)\n",
            "Requirement already satisfied: charset-normalizer~=2.0.0 in /usr/local/lib/python3.7/dist-packages (from requests>=2.25.1->binance-connector) (2.0.12)\n",
            "Requirement already satisfied: certifi>=2017.4.17 in /usr/local/lib/python3.7/dist-packages (from requests>=2.25.1->binance-connector) (2021.10.8)\n",
            "Requirement already satisfied: urllib3<1.27,>=1.21.1 in /usr/local/lib/python3.7/dist-packages (from requests>=2.25.1->binance-connector) (1.24.3)\n",
            "Requirement already satisfied: pyasn1-modules in /usr/local/lib/python3.7/dist-packages (from service-identity>=21.1.0->binance-connector) (0.2.8)\n",
            "Requirement already satisfied: pyasn1 in /usr/local/lib/python3.7/dist-packages (from service-identity>=21.1.0->binance-connector) (0.4.8)\n",
            "Requirement already satisfied: attrs>=19.1.0 in /usr/local/lib/python3.7/dist-packages (from service-identity>=21.1.0->binance-connector) (21.4.0)\n",
            "Requirement already satisfied: six in /usr/local/lib/python3.7/dist-packages (from service-identity>=21.1.0->binance-connector) (1.15.0)\n",
            "Requirement already satisfied: incremental>=21.3.0 in /usr/local/lib/python3.7/dist-packages (from Twisted>=21.2.0->binance-connector) (21.3.0)\n",
            "Requirement already satisfied: Automat>=0.8.0 in /usr/local/lib/python3.7/dist-packages (from Twisted>=21.2.0->binance-connector) (20.2.0)\n",
            "Requirement already satisfied: zope.interface>=4.4.2 in /usr/local/lib/python3.7/dist-packages (from Twisted>=21.2.0->binance-connector) (5.4.0)\n",
            "Requirement already satisfied: typing-extensions>=3.6.5 in /usr/local/lib/python3.7/dist-packages (from Twisted>=21.2.0->binance-connector) (4.2.0)\n",
            "Requirement already satisfied: constantly>=15.1 in /usr/local/lib/python3.7/dist-packages (from Twisted>=21.2.0->binance-connector) (15.1.0)\n"
          ]
        }
      ],
      "source": [
        "!pip install binance-connector"
      ]
    },
    {
      "cell_type": "code",
      "source": [
        "from binance.spot import Spot as Client\n",
        "import pandas as pd"
      ],
      "metadata": {
        "id": "zJT_dAtC8hiq"
      },
      "execution_count": 3,
      "outputs": []
    },
    {
      "cell_type": "code",
      "source": [
        "## Recupero dalle Api di Binance i dati di Cardano\n",
        "spot_client = Client(base_url=\"https://api.binance.com\")\n",
        "data = spot_client.klines(\"ADAUSDT\", \"1m\", limit=100)"
      ],
      "metadata": {
        "id": "RRkRPT81-emS"
      },
      "execution_count": 4,
      "outputs": []
    },
    {
      "cell_type": "code",
      "source": [
        "## Converto la risposta delle Api in un Dataframe di Pandas\n",
        "df = pd.DataFrame(data)"
      ],
      "metadata": {
        "id": "0yb03-_f9bTz"
      },
      "execution_count": 5,
      "outputs": []
    },
    {
      "cell_type": "code",
      "source": [
        "## Stampo il Dataframe\n",
        "df"
      ],
      "metadata": {
        "colab": {
          "base_uri": "https://localhost:8080/",
          "height": 488
        },
        "id": "AHhIBr-c-k78",
        "outputId": "3372d00d-11d2-4308-d2f6-a2a1368d627f"
      },
      "execution_count": 6,
      "outputs": [
        {
          "output_type": "execute_result",
          "data": {
            "text/plain": [
              "               0           1           2           3           4   \\\n",
              "0   1652806320000  0.57060000  0.57140000  0.57060000  0.57100000   \n",
              "1   1652806380000  0.57120000  0.57170000  0.57100000  0.57170000   \n",
              "2   1652806440000  0.57180000  0.57180000  0.57130000  0.57140000   \n",
              "3   1652806500000  0.57150000  0.57150000  0.57060000  0.57070000   \n",
              "4   1652806560000  0.57070000  0.57190000  0.57050000  0.57130000   \n",
              "..            ...         ...         ...         ...         ...   \n",
              "95  1652812020000  0.55740000  0.55780000  0.55660000  0.55680000   \n",
              "96  1652812080000  0.55690000  0.55740000  0.55610000  0.55630000   \n",
              "97  1652812140000  0.55630000  0.55660000  0.55440000  0.55500000   \n",
              "98  1652812200000  0.55500000  0.55700000  0.55420000  0.55530000   \n",
              "99  1652812260000  0.55540000  0.55560000  0.55400000  0.55450000   \n",
              "\n",
              "                 5              6                7    8                9   \\\n",
              "0    41065.70000000  1652806379999   23447.39136000  106   25537.90000000   \n",
              "1    56789.60000000  1652806439999   32453.13161000  122   33451.80000000   \n",
              "2    43432.60000000  1652806499999   24821.82794000  106   10743.20000000   \n",
              "3   108353.80000000  1652806559999   61855.48481000  211   56923.80000000   \n",
              "4   137728.20000000  1652806619999   78682.18655000  283   99736.60000000   \n",
              "..              ...            ...              ...  ...              ...   \n",
              "95  116473.10000000  1652812079999   64910.28743000  238   59387.00000000   \n",
              "96  213698.20000000  1652812139999  118969.49273000  366  128422.20000000   \n",
              "97  259635.00000000  1652812199999  144284.60301000  458  131011.70000000   \n",
              "98  201037.80000000  1652812259999  111729.66997000  430   94068.70000000   \n",
              "99   70610.80000000  1652812319999   39160.00398000  184   23381.20000000   \n",
              "\n",
              "                10 11  \n",
              "0   14580.51608000  0  \n",
              "1   19115.93583000  0  \n",
              "2    6140.23308000  0  \n",
              "3   32499.33546000  0  \n",
              "4   56986.63169000  0  \n",
              "..             ... ..  \n",
              "95  33099.51290000  0  \n",
              "96  71494.05609000  0  \n",
              "97  72823.26274000  0  \n",
              "98  52283.79095000  0  \n",
              "99  12968.06490000  0  \n",
              "\n",
              "[100 rows x 12 columns]"
            ],
            "text/html": [
              "\n",
              "  <div id=\"df-75b2b26c-6307-4ce4-9620-1484700de79e\">\n",
              "    <div class=\"colab-df-container\">\n",
              "      <div>\n",
              "<style scoped>\n",
              "    .dataframe tbody tr th:only-of-type {\n",
              "        vertical-align: middle;\n",
              "    }\n",
              "\n",
              "    .dataframe tbody tr th {\n",
              "        vertical-align: top;\n",
              "    }\n",
              "\n",
              "    .dataframe thead th {\n",
              "        text-align: right;\n",
              "    }\n",
              "</style>\n",
              "<table border=\"1\" class=\"dataframe\">\n",
              "  <thead>\n",
              "    <tr style=\"text-align: right;\">\n",
              "      <th></th>\n",
              "      <th>0</th>\n",
              "      <th>1</th>\n",
              "      <th>2</th>\n",
              "      <th>3</th>\n",
              "      <th>4</th>\n",
              "      <th>5</th>\n",
              "      <th>6</th>\n",
              "      <th>7</th>\n",
              "      <th>8</th>\n",
              "      <th>9</th>\n",
              "      <th>10</th>\n",
              "      <th>11</th>\n",
              "    </tr>\n",
              "  </thead>\n",
              "  <tbody>\n",
              "    <tr>\n",
              "      <th>0</th>\n",
              "      <td>1652806320000</td>\n",
              "      <td>0.57060000</td>\n",
              "      <td>0.57140000</td>\n",
              "      <td>0.57060000</td>\n",
              "      <td>0.57100000</td>\n",
              "      <td>41065.70000000</td>\n",
              "      <td>1652806379999</td>\n",
              "      <td>23447.39136000</td>\n",
              "      <td>106</td>\n",
              "      <td>25537.90000000</td>\n",
              "      <td>14580.51608000</td>\n",
              "      <td>0</td>\n",
              "    </tr>\n",
              "    <tr>\n",
              "      <th>1</th>\n",
              "      <td>1652806380000</td>\n",
              "      <td>0.57120000</td>\n",
              "      <td>0.57170000</td>\n",
              "      <td>0.57100000</td>\n",
              "      <td>0.57170000</td>\n",
              "      <td>56789.60000000</td>\n",
              "      <td>1652806439999</td>\n",
              "      <td>32453.13161000</td>\n",
              "      <td>122</td>\n",
              "      <td>33451.80000000</td>\n",
              "      <td>19115.93583000</td>\n",
              "      <td>0</td>\n",
              "    </tr>\n",
              "    <tr>\n",
              "      <th>2</th>\n",
              "      <td>1652806440000</td>\n",
              "      <td>0.57180000</td>\n",
              "      <td>0.57180000</td>\n",
              "      <td>0.57130000</td>\n",
              "      <td>0.57140000</td>\n",
              "      <td>43432.60000000</td>\n",
              "      <td>1652806499999</td>\n",
              "      <td>24821.82794000</td>\n",
              "      <td>106</td>\n",
              "      <td>10743.20000000</td>\n",
              "      <td>6140.23308000</td>\n",
              "      <td>0</td>\n",
              "    </tr>\n",
              "    <tr>\n",
              "      <th>3</th>\n",
              "      <td>1652806500000</td>\n",
              "      <td>0.57150000</td>\n",
              "      <td>0.57150000</td>\n",
              "      <td>0.57060000</td>\n",
              "      <td>0.57070000</td>\n",
              "      <td>108353.80000000</td>\n",
              "      <td>1652806559999</td>\n",
              "      <td>61855.48481000</td>\n",
              "      <td>211</td>\n",
              "      <td>56923.80000000</td>\n",
              "      <td>32499.33546000</td>\n",
              "      <td>0</td>\n",
              "    </tr>\n",
              "    <tr>\n",
              "      <th>4</th>\n",
              "      <td>1652806560000</td>\n",
              "      <td>0.57070000</td>\n",
              "      <td>0.57190000</td>\n",
              "      <td>0.57050000</td>\n",
              "      <td>0.57130000</td>\n",
              "      <td>137728.20000000</td>\n",
              "      <td>1652806619999</td>\n",
              "      <td>78682.18655000</td>\n",
              "      <td>283</td>\n",
              "      <td>99736.60000000</td>\n",
              "      <td>56986.63169000</td>\n",
              "      <td>0</td>\n",
              "    </tr>\n",
              "    <tr>\n",
              "      <th>...</th>\n",
              "      <td>...</td>\n",
              "      <td>...</td>\n",
              "      <td>...</td>\n",
              "      <td>...</td>\n",
              "      <td>...</td>\n",
              "      <td>...</td>\n",
              "      <td>...</td>\n",
              "      <td>...</td>\n",
              "      <td>...</td>\n",
              "      <td>...</td>\n",
              "      <td>...</td>\n",
              "      <td>...</td>\n",
              "    </tr>\n",
              "    <tr>\n",
              "      <th>95</th>\n",
              "      <td>1652812020000</td>\n",
              "      <td>0.55740000</td>\n",
              "      <td>0.55780000</td>\n",
              "      <td>0.55660000</td>\n",
              "      <td>0.55680000</td>\n",
              "      <td>116473.10000000</td>\n",
              "      <td>1652812079999</td>\n",
              "      <td>64910.28743000</td>\n",
              "      <td>238</td>\n",
              "      <td>59387.00000000</td>\n",
              "      <td>33099.51290000</td>\n",
              "      <td>0</td>\n",
              "    </tr>\n",
              "    <tr>\n",
              "      <th>96</th>\n",
              "      <td>1652812080000</td>\n",
              "      <td>0.55690000</td>\n",
              "      <td>0.55740000</td>\n",
              "      <td>0.55610000</td>\n",
              "      <td>0.55630000</td>\n",
              "      <td>213698.20000000</td>\n",
              "      <td>1652812139999</td>\n",
              "      <td>118969.49273000</td>\n",
              "      <td>366</td>\n",
              "      <td>128422.20000000</td>\n",
              "      <td>71494.05609000</td>\n",
              "      <td>0</td>\n",
              "    </tr>\n",
              "    <tr>\n",
              "      <th>97</th>\n",
              "      <td>1652812140000</td>\n",
              "      <td>0.55630000</td>\n",
              "      <td>0.55660000</td>\n",
              "      <td>0.55440000</td>\n",
              "      <td>0.55500000</td>\n",
              "      <td>259635.00000000</td>\n",
              "      <td>1652812199999</td>\n",
              "      <td>144284.60301000</td>\n",
              "      <td>458</td>\n",
              "      <td>131011.70000000</td>\n",
              "      <td>72823.26274000</td>\n",
              "      <td>0</td>\n",
              "    </tr>\n",
              "    <tr>\n",
              "      <th>98</th>\n",
              "      <td>1652812200000</td>\n",
              "      <td>0.55500000</td>\n",
              "      <td>0.55700000</td>\n",
              "      <td>0.55420000</td>\n",
              "      <td>0.55530000</td>\n",
              "      <td>201037.80000000</td>\n",
              "      <td>1652812259999</td>\n",
              "      <td>111729.66997000</td>\n",
              "      <td>430</td>\n",
              "      <td>94068.70000000</td>\n",
              "      <td>52283.79095000</td>\n",
              "      <td>0</td>\n",
              "    </tr>\n",
              "    <tr>\n",
              "      <th>99</th>\n",
              "      <td>1652812260000</td>\n",
              "      <td>0.55540000</td>\n",
              "      <td>0.55560000</td>\n",
              "      <td>0.55400000</td>\n",
              "      <td>0.55450000</td>\n",
              "      <td>70610.80000000</td>\n",
              "      <td>1652812319999</td>\n",
              "      <td>39160.00398000</td>\n",
              "      <td>184</td>\n",
              "      <td>23381.20000000</td>\n",
              "      <td>12968.06490000</td>\n",
              "      <td>0</td>\n",
              "    </tr>\n",
              "  </tbody>\n",
              "</table>\n",
              "<p>100 rows × 12 columns</p>\n",
              "</div>\n",
              "      <button class=\"colab-df-convert\" onclick=\"convertToInteractive('df-75b2b26c-6307-4ce4-9620-1484700de79e')\"\n",
              "              title=\"Convert this dataframe to an interactive table.\"\n",
              "              style=\"display:none;\">\n",
              "        \n",
              "  <svg xmlns=\"http://www.w3.org/2000/svg\" height=\"24px\"viewBox=\"0 0 24 24\"\n",
              "       width=\"24px\">\n",
              "    <path d=\"M0 0h24v24H0V0z\" fill=\"none\"/>\n",
              "    <path d=\"M18.56 5.44l.94 2.06.94-2.06 2.06-.94-2.06-.94-.94-2.06-.94 2.06-2.06.94zm-11 1L8.5 8.5l.94-2.06 2.06-.94-2.06-.94L8.5 2.5l-.94 2.06-2.06.94zm10 10l.94 2.06.94-2.06 2.06-.94-2.06-.94-.94-2.06-.94 2.06-2.06.94z\"/><path d=\"M17.41 7.96l-1.37-1.37c-.4-.4-.92-.59-1.43-.59-.52 0-1.04.2-1.43.59L10.3 9.45l-7.72 7.72c-.78.78-.78 2.05 0 2.83L4 21.41c.39.39.9.59 1.41.59.51 0 1.02-.2 1.41-.59l7.78-7.78 2.81-2.81c.8-.78.8-2.07 0-2.86zM5.41 20L4 18.59l7.72-7.72 1.47 1.35L5.41 20z\"/>\n",
              "  </svg>\n",
              "      </button>\n",
              "      \n",
              "  <style>\n",
              "    .colab-df-container {\n",
              "      display:flex;\n",
              "      flex-wrap:wrap;\n",
              "      gap: 12px;\n",
              "    }\n",
              "\n",
              "    .colab-df-convert {\n",
              "      background-color: #E8F0FE;\n",
              "      border: none;\n",
              "      border-radius: 50%;\n",
              "      cursor: pointer;\n",
              "      display: none;\n",
              "      fill: #1967D2;\n",
              "      height: 32px;\n",
              "      padding: 0 0 0 0;\n",
              "      width: 32px;\n",
              "    }\n",
              "\n",
              "    .colab-df-convert:hover {\n",
              "      background-color: #E2EBFA;\n",
              "      box-shadow: 0px 1px 2px rgba(60, 64, 67, 0.3), 0px 1px 3px 1px rgba(60, 64, 67, 0.15);\n",
              "      fill: #174EA6;\n",
              "    }\n",
              "\n",
              "    [theme=dark] .colab-df-convert {\n",
              "      background-color: #3B4455;\n",
              "      fill: #D2E3FC;\n",
              "    }\n",
              "\n",
              "    [theme=dark] .colab-df-convert:hover {\n",
              "      background-color: #434B5C;\n",
              "      box-shadow: 0px 1px 3px 1px rgba(0, 0, 0, 0.15);\n",
              "      filter: drop-shadow(0px 1px 2px rgba(0, 0, 0, 0.3));\n",
              "      fill: #FFFFFF;\n",
              "    }\n",
              "  </style>\n",
              "\n",
              "      <script>\n",
              "        const buttonEl =\n",
              "          document.querySelector('#df-75b2b26c-6307-4ce4-9620-1484700de79e button.colab-df-convert');\n",
              "        buttonEl.style.display =\n",
              "          google.colab.kernel.accessAllowed ? 'block' : 'none';\n",
              "\n",
              "        async function convertToInteractive(key) {\n",
              "          const element = document.querySelector('#df-75b2b26c-6307-4ce4-9620-1484700de79e');\n",
              "          const dataTable =\n",
              "            await google.colab.kernel.invokeFunction('convertToInteractive',\n",
              "                                                     [key], {});\n",
              "          if (!dataTable) return;\n",
              "\n",
              "          const docLinkHtml = 'Like what you see? Visit the ' +\n",
              "            '<a target=\"_blank\" href=https://colab.research.google.com/notebooks/data_table.ipynb>data table notebook</a>'\n",
              "            + ' to learn more about interactive tables.';\n",
              "          element.innerHTML = '';\n",
              "          dataTable['output_type'] = 'display_data';\n",
              "          await google.colab.output.renderOutput(dataTable, element);\n",
              "          const docLink = document.createElement('div');\n",
              "          docLink.innerHTML = docLinkHtml;\n",
              "          element.appendChild(docLink);\n",
              "        }\n",
              "      </script>\n",
              "    </div>\n",
              "  </div>\n",
              "  "
            ]
          },
          "metadata": {},
          "execution_count": 6
        }
      ]
    },
    {
      "cell_type": "code",
      "source": [
        "## Converto il Timestamp in Datatime\n",
        "df[0] = (pd.to_datetime(df[0],unit='ms'))"
      ],
      "metadata": {
        "id": "iz7TbpLD-rDA"
      },
      "execution_count": 7,
      "outputs": []
    },
    {
      "cell_type": "code",
      "source": [
        "## Elimino le colonne che non uso\n",
        "df = df.drop(columns=[6, 7, 8, 9, 10, 11])"
      ],
      "metadata": {
        "id": "PH4rKOwTIJVa"
      },
      "execution_count": 8,
      "outputs": []
    },
    {
      "cell_type": "code",
      "source": [
        "## Do dei nomi alle colonne\n",
        "df.columns = ['date', 'open', 'high', 'low', 'close', 'volume']"
      ],
      "metadata": {
        "id": "mMpCD5uqISvI"
      },
      "execution_count": 9,
      "outputs": []
    },
    {
      "cell_type": "code",
      "source": [
        "## Grafico chiusure di Cardano"
      ],
      "metadata": {
        "id": "Ybmq5hvcjMcg"
      },
      "execution_count": 11,
      "outputs": []
    },
    {
      "cell_type": "code",
      "source": [
        "import matplotlib.pyplot as plt"
      ],
      "metadata": {
        "id": "qtIiDFzylVAA"
      },
      "execution_count": 12,
      "outputs": []
    },
    {
      "cell_type": "code",
      "source": [
        "## Converto il formato della colonna Close\n",
        "df[\"close\"] = df[\"close\"].astype(float)"
      ],
      "metadata": {
        "id": "cMFvyI7oncaA"
      },
      "execution_count": 13,
      "outputs": []
    },
    {
      "cell_type": "code",
      "source": [
        "## Grafico la colonna Close\n",
        "df[\"close\"].plot()"
      ],
      "metadata": {
        "colab": {
          "base_uri": "https://localhost:8080/",
          "height": 282
        },
        "id": "OkQ1Bdk6S3TC",
        "outputId": "1476c4b7-c01c-4886-bd6a-d66199715bb6"
      },
      "execution_count": 14,
      "outputs": [
        {
          "output_type": "execute_result",
          "data": {
            "text/plain": [
              "<matplotlib.axes._subplots.AxesSubplot at 0x7fb8fe89f650>"
            ]
          },
          "metadata": {},
          "execution_count": 14
        },
        {
          "output_type": "display_data",
          "data": {
            "text/plain": [
              "<Figure size 432x288 with 1 Axes>"
            ],
            "image/png": "[encoded data removed]"
          },
          "metadata": {
            "needs_background": "light"
          }
        }
      ]
    },
    {
      "cell_type": "code",
      "source": [
        "## SMA"
      ],
      "metadata": {
        "id": "PfZfma5ASqr8"
      },
      "execution_count": null,
      "outputs": []
    },
    {
      "cell_type": "markdown",
      "source": [
        "$$SMA = \\frac{\\sum_{i=1}^{N}Pi}{N}$$"
      ],
      "metadata": {
        "id": "18cU7VBrSpty"
      }
    },
    {
      "cell_type": "code",
      "source": [
        "import statistics as stats\n",
        "\n",
        "time_period = 20\n",
        "history = []\n",
        "sma_values = []\n",
        "\n",
        "for close_price in df[\"close\"]:\n",
        "  history.append(close_price)\n",
        "  if len(history) > time_period:\n",
        "    del (history[0])\n",
        "\n",
        "  sma_values.append(stats.mean(history))\n",
        "\n",
        "df = df.assign(sma20=pd.Series(sma_values))\n",
        "\n",
        "close_price = df['close']\n",
        "\n",
        "sma = df['sma20']\n",
        "\n",
        "import matplotlib.pyplot as plt\n",
        "\n",
        "fig = plt.figure()\n",
        "\n",
        "ax1 = fig.add_subplot(111, ylabel='Cardano in $')\n",
        "\n",
        "close_price.plot(ax=ax1, color='g', lw=2., legend=True)\n",
        "\n",
        "sma.plot(ax=ax1, color='r', lw=2., legend=True)\n",
        "\n",
        "plt.show()\n",
        "\n"
      ],
      "metadata": {
        "colab": {
          "base_uri": "https://localhost:8080/",
          "height": 265
        },
        "id": "iTtE6RkJ2TIa",
        "outputId": "e5f5129a-e8e0-4aba-9749-d270c122c63e"
      },
      "execution_count": 15,
      "outputs": [
        {
          "output_type": "display_data",
          "data": {
            "text/plain": [
              "<Figure size 432x288 with 1 Axes>"
            ],
            "image/png": "[encoded data removed]"
          },
          "metadata": {
            "needs_background": "light"
          }
        }
      ]
    }
  ]
}