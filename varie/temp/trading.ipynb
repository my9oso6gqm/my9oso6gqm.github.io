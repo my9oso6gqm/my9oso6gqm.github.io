{
  "nbformat": 4,
  "nbformat_minor": 0,
  "metadata": {
    "colab": {
      "name": "trading.ipynb",
      "provenance": [],
      "authorship_tag": "ABX9TyMwjGb+iwR1AuxFN4Fkp1LQ",
      "include_colab_link": true
    },
    "kernelspec": {
      "name": "python3",
      "display_name": "Python 3"
    },
    "language_info": {
      "name": "python"
    }
  },
  "cells": [
    {
      "cell_type": "markdown",
      "metadata": {
        "id": "view-in-github",
        "colab_type": "text"
      },
      "source": [
        "<a href=\"https://colab.research.google.com/github/my9oso6gqm/my9oso6gqm.github.io/blob/main/varie/temp/trading.ipynb\" target=\"_parent\"><img src=\"https://colab.research.google.com/assets/colab-badge.svg\" alt=\"Open In Colab\"/></a>"
      ]
    },
    {
      "cell_type": "code",
      "source": [
        "## Recupero dati da Binance"
      ],
      "metadata": {
        "id": "ZNaD7jEejbiJ"
      },
      "execution_count": 2,
      "outputs": []
    },
    {
      "cell_type": "code",
      "execution_count": 3,
      "metadata": {
        "colab": {
          "base_uri": "https://localhost:8080/"
        },
        "id": "ZkjjbjxeoOi9",
        "outputId": "a2435c30-d74c-476a-a1df-fb3bffc5919d"
      },
      "outputs": [
        {
          "output_type": "stream",
          "name": "stdout",
          "text": [
            "Looking in indexes: https://pypi.org/simple, https://us-python.pkg.dev/colab-wheels/public/simple/\n",
            "Collecting binance-connector\n",
            "  Downloading binance_connector-1.13.0-py3-none-any.whl (47 kB)\n",
            "\u001b[K     |████████████████████████████████| 47 kB 1.9 MB/s \n",
            "\u001b[?25hCollecting service-identity>=21.1.0\n",
            "  Downloading service_identity-21.1.0-py2.py3-none-any.whl (12 kB)\n",
            "Collecting Twisted>=21.2.0\n",
            "  Downloading Twisted-22.4.0-py3-none-any.whl (3.1 MB)\n",
            "\u001b[K     |████████████████████████████████| 3.1 MB 10.1 MB/s \n",
            "\u001b[?25hCollecting requests>=2.25.1\n",
            "  Downloading requests-2.27.1-py2.py3-none-any.whl (63 kB)\n",
            "\u001b[K     |████████████████████████████████| 63 kB 1.6 MB/s \n",
            "\u001b[?25hCollecting pyOpenSSL>=19.0.0\n",
            "  Downloading pyOpenSSL-22.0.0-py2.py3-none-any.whl (55 kB)\n",
            "\u001b[K     |████████████████████████████████| 55 kB 3.9 MB/s \n",
            "\u001b[?25hCollecting autobahn>=21.2.1\n",
            "  Downloading autobahn-22.4.2.tar.gz (396 kB)\n",
            "\u001b[K     |████████████████████████████████| 396 kB 68.1 MB/s \n",
            "\u001b[?25hCollecting txaio>=21.2.1\n",
            "  Downloading txaio-22.2.1-py2.py3-none-any.whl (30 kB)\n",
            "Collecting cryptography>=3.4.6\n",
            "  Downloading cryptography-37.0.2-cp36-abi3-manylinux_2_24_x86_64.whl (4.0 MB)\n",
            "\u001b[K     |████████████████████████████████| 4.0 MB 37.3 MB/s \n",
            "\u001b[?25hCollecting hyperlink>=21.0.0\n",
            "  Downloading hyperlink-21.0.0-py2.py3-none-any.whl (74 kB)\n",
            "\u001b[K     |████████████████████████████████| 74 kB 2.9 MB/s \n",
            "\u001b[?25hRequirement already satisfied: setuptools in /usr/local/lib/python3.7/dist-packages (from autobahn>=21.2.1->binance-connector) (57.4.0)\n",
            "Requirement already satisfied: cffi>=1.12 in /usr/local/lib/python3.7/dist-packages (from cryptography>=3.4.6->autobahn>=21.2.1->binance-connector) (1.15.0)\n",
            "Requirement already satisfied: pycparser in /usr/local/lib/python3.7/dist-packages (from cffi>=1.12->cryptography>=3.4.6->autobahn>=21.2.1->binance-connector) (2.21)\n",
            "Requirement already satisfied: idna>=2.5 in /usr/local/lib/python3.7/dist-packages (from hyperlink>=21.0.0->autobahn>=21.2.1->binance-connector) (2.10)\n",
            "Requirement already satisfied: urllib3<1.27,>=1.21.1 in /usr/local/lib/python3.7/dist-packages (from requests>=2.25.1->binance-connector) (1.24.3)\n",
            "Requirement already satisfied: charset-normalizer~=2.0.0 in /usr/local/lib/python3.7/dist-packages (from requests>=2.25.1->binance-connector) (2.0.12)\n",
            "Requirement already satisfied: certifi>=2017.4.17 in /usr/local/lib/python3.7/dist-packages (from requests>=2.25.1->binance-connector) (2022.5.18.1)\n",
            "Requirement already satisfied: pyasn1 in /usr/local/lib/python3.7/dist-packages (from service-identity>=21.1.0->binance-connector) (0.4.8)\n",
            "Requirement already satisfied: six in /usr/local/lib/python3.7/dist-packages (from service-identity>=21.1.0->binance-connector) (1.15.0)\n",
            "Requirement already satisfied: attrs>=19.1.0 in /usr/local/lib/python3.7/dist-packages (from service-identity>=21.1.0->binance-connector) (21.4.0)\n",
            "Requirement already satisfied: pyasn1-modules in /usr/local/lib/python3.7/dist-packages (from service-identity>=21.1.0->binance-connector) (0.2.8)\n",
            "Collecting constantly>=15.1\n",
            "  Downloading constantly-15.1.0-py2.py3-none-any.whl (7.9 kB)\n",
            "Collecting zope.interface>=4.4.2\n",
            "  Downloading zope.interface-5.4.0-cp37-cp37m-manylinux2010_x86_64.whl (251 kB)\n",
            "\u001b[K     |████████████████████████████████| 251 kB 52.2 MB/s \n",
            "\u001b[?25hRequirement already satisfied: typing-extensions>=3.6.5 in /usr/local/lib/python3.7/dist-packages (from Twisted>=21.2.0->binance-connector) (4.2.0)\n",
            "Collecting Automat>=0.8.0\n",
            "  Downloading Automat-20.2.0-py2.py3-none-any.whl (31 kB)\n",
            "Collecting incremental>=21.3.0\n",
            "  Downloading incremental-21.3.0-py2.py3-none-any.whl (15 kB)\n",
            "Building wheels for collected packages: autobahn\n",
            "  Building wheel for autobahn (setup.py) ... \u001b[?25l\u001b[?25hdone\n",
            "  Created wheel for autobahn: filename=autobahn-22.4.2-cp37-cp37m-linux_x86_64.whl size=580330 sha256=17188c0126fddd0cfefed3b501ab9a1289f2741654b56a696b56763176760d4b\n",
            "  Stored in directory: /root/.cache/pip/wheels/ec/0b/fc/7cf072cb66e08c9365e03420a6447aa45da6f70dd4b08b223c\n",
            "Successfully built autobahn\n",
            "Installing collected packages: zope.interface, txaio, incremental, hyperlink, cryptography, constantly, Automat, Twisted, service-identity, requests, pyOpenSSL, autobahn, binance-connector\n",
            "  Attempting uninstall: requests\n",
            "    Found existing installation: requests 2.23.0\n",
            "    Uninstalling requests-2.23.0:\n",
            "      Successfully uninstalled requests-2.23.0\n",
            "\u001b[31mERROR: pip's dependency resolver does not currently take into account all the packages that are installed. This behaviour is the source of the following dependency conflicts.\n",
            "google-colab 1.0.0 requires requests~=2.23.0, but you have requests 2.27.1 which is incompatible.\n",
            "datascience 0.10.6 requires folium==0.2.1, but you have folium 0.8.3 which is incompatible.\u001b[0m\n",
            "Successfully installed Automat-20.2.0 Twisted-22.4.0 autobahn-22.4.2 binance-connector-1.13.0 constantly-15.1.0 cryptography-37.0.2 hyperlink-21.0.0 incremental-21.3.0 pyOpenSSL-22.0.0 requests-2.27.1 service-identity-21.1.0 txaio-22.2.1 zope.interface-5.4.0\n"
          ]
        }
      ],
      "source": [
        "!pip install binance-connector"
      ]
    },
    {
      "cell_type": "code",
      "source": [
        "from binance.spot import Spot as Client\n",
        "import pandas as pd"
      ],
      "metadata": {
        "id": "zJT_dAtC8hiq"
      },
      "execution_count": 4,
      "outputs": []
    },
    {
      "cell_type": "code",
      "source": [
        "## Recupero dalle Api di Binance i dati di Cardano\n",
        "spot_client = Client(base_url=\"https://api.binance.com\")\n",
        "data = spot_client.klines(\"ADAUSDT\", \"1m\", limit=1000)"
      ],
      "metadata": {
        "id": "RRkRPT81-emS"
      },
      "execution_count": 5,
      "outputs": []
    },
    {
      "cell_type": "code",
      "source": [
        "## Converto la risposta delle Api in un Dataframe di Pandas\n",
        "df = pd.DataFrame(data)"
      ],
      "metadata": {
        "id": "0yb03-_f9bTz"
      },
      "execution_count": 6,
      "outputs": []
    },
    {
      "cell_type": "code",
      "source": [
        "## Stampo il Dataframe\n",
        "df"
      ],
      "metadata": {
        "colab": {
          "base_uri": "https://localhost:8080/",
          "height": 488
        },
        "id": "AHhIBr-c-k78",
        "outputId": "141d418a-53e8-4d46-9574-9cb3aa3abddc"
      },
      "execution_count": 7,
      "outputs": [
        {
          "output_type": "execute_result",
          "data": {
            "text/plain": [
              "                0           1           2           3           4   \\\n",
              "0    1653963720000  0.58770000  0.58900000  0.58680000  0.58680000   \n",
              "1    1653963780000  0.58680000  0.58700000  0.58570000  0.58590000   \n",
              "2    1653963840000  0.58600000  0.58880000  0.58600000  0.58770000   \n",
              "3    1653963900000  0.58760000  0.58830000  0.58760000  0.58830000   \n",
              "4    1653963960000  0.58840000  0.58880000  0.58770000  0.58820000   \n",
              "..             ...         ...         ...         ...         ...   \n",
              "995  1654023420000  0.60000000  0.60190000  0.60000000  0.60080000   \n",
              "996  1654023480000  0.60080000  0.60220000  0.60040000  0.60210000   \n",
              "997  1654023540000  0.60210000  0.60240000  0.60060000  0.60170000   \n",
              "998  1654023600000  0.60170000  0.60200000  0.59950000  0.60000000   \n",
              "999  1654023660000  0.60000000  0.60130000  0.59980000  0.60060000   \n",
              "\n",
              "                  5              6                7    8                9   \\\n",
              "0    199454.70000000  1653963779999  117283.84369000  509   77696.90000000   \n",
              "1    260718.70000000  1653963839999  152884.37926000  271   44678.70000000   \n",
              "2    179775.30000000  1653963899999  105652.62684000  246  134048.60000000   \n",
              "3     58864.60000000  1653963959999   34615.46985000   90   39337.90000000   \n",
              "4    180973.30000000  1653964019999  106419.17232000  214  123267.10000000   \n",
              "..               ...            ...              ...  ...              ...   \n",
              "995  404005.90000000  1654023479999  242890.83450000  575  225008.60000000   \n",
              "996  374584.50000000  1654023539999  225182.69494000  545  207998.90000000   \n",
              "997  297688.50000000  1654023599999  179062.33617000  418  131280.50000000   \n",
              "998  429595.60000000  1654023659999  258073.49232000  486  248127.10000000   \n",
              "999  268390.20000000  1654023719999  161181.94500000  379  117705.30000000   \n",
              "\n",
              "                  10 11  \n",
              "0     45697.41852000  0  \n",
              "1     26201.46940000  0  \n",
              "2     78764.75325000  0  \n",
              "3     23133.15971000  0  \n",
              "4     72487.54614000  0  \n",
              "..               ... ..  \n",
              "995  135274.19034000  0  \n",
              "996  125053.43588000  0  \n",
              "997   78975.45199000  0  \n",
              "998  149018.46439000  0  \n",
              "999   70678.03347000  0  \n",
              "\n",
              "[1000 rows x 12 columns]"
            ],
            "text/html": [
              "\n",
              "  <div id=\"df-60afa293-6d62-4c33-a7c5-906b265fafaf\">\n",
              "    <div class=\"colab-df-container\">\n",
              "      <div>\n",
              "<style scoped>\n",
              "    .dataframe tbody tr th:only-of-type {\n",
              "        vertical-align: middle;\n",
              "    }\n",
              "\n",
              "    .dataframe tbody tr th {\n",
              "        vertical-align: top;\n",
              "    }\n",
              "\n",
              "    .dataframe thead th {\n",
              "        text-align: right;\n",
              "    }\n",
              "</style>\n",
              "<table border=\"1\" class=\"dataframe\">\n",
              "  <thead>\n",
              "    <tr style=\"text-align: right;\">\n",
              "      <th></th>\n",
              "      <th>0</th>\n",
              "      <th>1</th>\n",
              "      <th>2</th>\n",
              "      <th>3</th>\n",
              "      <th>4</th>\n",
              "      <th>5</th>\n",
              "      <th>6</th>\n",
              "      <th>7</th>\n",
              "      <th>8</th>\n",
              "      <th>9</th>\n",
              "      <th>10</th>\n",
              "      <th>11</th>\n",
              "    </tr>\n",
              "  </thead>\n",
              "  <tbody>\n",
              "    <tr>\n",
              "      <th>0</th>\n",
              "      <td>1653963720000</td>\n",
              "      <td>0.58770000</td>\n",
              "      <td>0.58900000</td>\n",
              "      <td>0.58680000</td>\n",
              "      <td>0.58680000</td>\n",
              "      <td>199454.70000000</td>\n",
              "      <td>1653963779999</td>\n",
              "      <td>117283.84369000</td>\n",
              "      <td>509</td>\n",
              "      <td>77696.90000000</td>\n",
              "      <td>45697.41852000</td>\n",
              "      <td>0</td>\n",
              "    </tr>\n",
              "    <tr>\n",
              "      <th>1</th>\n",
              "      <td>1653963780000</td>\n",
              "      <td>0.58680000</td>\n",
              "      <td>0.58700000</td>\n",
              "      <td>0.58570000</td>\n",
              "      <td>0.58590000</td>\n",
              "      <td>260718.70000000</td>\n",
              "      <td>1653963839999</td>\n",
              "      <td>152884.37926000</td>\n",
              "      <td>271</td>\n",
              "      <td>44678.70000000</td>\n",
              "      <td>26201.46940000</td>\n",
              "      <td>0</td>\n",
              "    </tr>\n",
              "    <tr>\n",
              "      <th>2</th>\n",
              "      <td>1653963840000</td>\n",
              "      <td>0.58600000</td>\n",
              "      <td>0.58880000</td>\n",
              "      <td>0.58600000</td>\n",
              "      <td>0.58770000</td>\n",
              "      <td>179775.30000000</td>\n",
              "      <td>1653963899999</td>\n",
              "      <td>105652.62684000</td>\n",
              "      <td>246</td>\n",
              "      <td>134048.60000000</td>\n",
              "      <td>78764.75325000</td>\n",
              "      <td>0</td>\n",
              "    </tr>\n",
              "    <tr>\n",
              "      <th>3</th>\n",
              "      <td>1653963900000</td>\n",
              "      <td>0.58760000</td>\n",
              "      <td>0.58830000</td>\n",
              "      <td>0.58760000</td>\n",
              "      <td>0.58830000</td>\n",
              "      <td>58864.60000000</td>\n",
              "      <td>1653963959999</td>\n",
              "      <td>34615.46985000</td>\n",
              "      <td>90</td>\n",
              "      <td>39337.90000000</td>\n",
              "      <td>23133.15971000</td>\n",
              "      <td>0</td>\n",
              "    </tr>\n",
              "    <tr>\n",
              "      <th>4</th>\n",
              "      <td>1653963960000</td>\n",
              "      <td>0.58840000</td>\n",
              "      <td>0.58880000</td>\n",
              "      <td>0.58770000</td>\n",
              "      <td>0.58820000</td>\n",
              "      <td>180973.30000000</td>\n",
              "      <td>1653964019999</td>\n",
              "      <td>106419.17232000</td>\n",
              "      <td>214</td>\n",
              "      <td>123267.10000000</td>\n",
              "      <td>72487.54614000</td>\n",
              "      <td>0</td>\n",
              "    </tr>\n",
              "    <tr>\n",
              "      <th>...</th>\n",
              "      <td>...</td>\n",
              "      <td>...</td>\n",
              "      <td>...</td>\n",
              "      <td>...</td>\n",
              "      <td>...</td>\n",
              "      <td>...</td>\n",
              "      <td>...</td>\n",
              "      <td>...</td>\n",
              "      <td>...</td>\n",
              "      <td>...</td>\n",
              "      <td>...</td>\n",
              "      <td>...</td>\n",
              "    </tr>\n",
              "    <tr>\n",
              "      <th>995</th>\n",
              "      <td>1654023420000</td>\n",
              "      <td>0.60000000</td>\n",
              "      <td>0.60190000</td>\n",
              "      <td>0.60000000</td>\n",
              "      <td>0.60080000</td>\n",
              "      <td>404005.90000000</td>\n",
              "      <td>1654023479999</td>\n",
              "      <td>242890.83450000</td>\n",
              "      <td>575</td>\n",
              "      <td>225008.60000000</td>\n",
              "      <td>135274.19034000</td>\n",
              "      <td>0</td>\n",
              "    </tr>\n",
              "    <tr>\n",
              "      <th>996</th>\n",
              "      <td>1654023480000</td>\n",
              "      <td>0.60080000</td>\n",
              "      <td>0.60220000</td>\n",
              "      <td>0.60040000</td>\n",
              "      <td>0.60210000</td>\n",
              "      <td>374584.50000000</td>\n",
              "      <td>1654023539999</td>\n",
              "      <td>225182.69494000</td>\n",
              "      <td>545</td>\n",
              "      <td>207998.90000000</td>\n",
              "      <td>125053.43588000</td>\n",
              "      <td>0</td>\n",
              "    </tr>\n",
              "    <tr>\n",
              "      <th>997</th>\n",
              "      <td>1654023540000</td>\n",
              "      <td>0.60210000</td>\n",
              "      <td>0.60240000</td>\n",
              "      <td>0.60060000</td>\n",
              "      <td>0.60170000</td>\n",
              "      <td>297688.50000000</td>\n",
              "      <td>1654023599999</td>\n",
              "      <td>179062.33617000</td>\n",
              "      <td>418</td>\n",
              "      <td>131280.50000000</td>\n",
              "      <td>78975.45199000</td>\n",
              "      <td>0</td>\n",
              "    </tr>\n",
              "    <tr>\n",
              "      <th>998</th>\n",
              "      <td>1654023600000</td>\n",
              "      <td>0.60170000</td>\n",
              "      <td>0.60200000</td>\n",
              "      <td>0.59950000</td>\n",
              "      <td>0.60000000</td>\n",
              "      <td>429595.60000000</td>\n",
              "      <td>1654023659999</td>\n",
              "      <td>258073.49232000</td>\n",
              "      <td>486</td>\n",
              "      <td>248127.10000000</td>\n",
              "      <td>149018.46439000</td>\n",
              "      <td>0</td>\n",
              "    </tr>\n",
              "    <tr>\n",
              "      <th>999</th>\n",
              "      <td>1654023660000</td>\n",
              "      <td>0.60000000</td>\n",
              "      <td>0.60130000</td>\n",
              "      <td>0.59980000</td>\n",
              "      <td>0.60060000</td>\n",
              "      <td>268390.20000000</td>\n",
              "      <td>1654023719999</td>\n",
              "      <td>161181.94500000</td>\n",
              "      <td>379</td>\n",
              "      <td>117705.30000000</td>\n",
              "      <td>70678.03347000</td>\n",
              "      <td>0</td>\n",
              "    </tr>\n",
              "  </tbody>\n",
              "</table>\n",
              "<p>1000 rows × 12 columns</p>\n",
              "</div>\n",
              "      <button class=\"colab-df-convert\" onclick=\"convertToInteractive('df-60afa293-6d62-4c33-a7c5-906b265fafaf')\"\n",
              "              title=\"Convert this dataframe to an interactive table.\"\n",
              "              style=\"display:none;\">\n",
              "        \n",
              "  <svg xmlns=\"http://www.w3.org/2000/svg\" height=\"24px\"viewBox=\"0 0 24 24\"\n",
              "       width=\"24px\">\n",
              "    <path d=\"M0 0h24v24H0V0z\" fill=\"none\"/>\n",
              "    <path d=\"M18.56 5.44l.94 2.06.94-2.06 2.06-.94-2.06-.94-.94-2.06-.94 2.06-2.06.94zm-11 1L8.5 8.5l.94-2.06 2.06-.94-2.06-.94L8.5 2.5l-.94 2.06-2.06.94zm10 10l.94 2.06.94-2.06 2.06-.94-2.06-.94-.94-2.06-.94 2.06-2.06.94z\"/><path d=\"M17.41 7.96l-1.37-1.37c-.4-.4-.92-.59-1.43-.59-.52 0-1.04.2-1.43.59L10.3 9.45l-7.72 7.72c-.78.78-.78 2.05 0 2.83L4 21.41c.39.39.9.59 1.41.59.51 0 1.02-.2 1.41-.59l7.78-7.78 2.81-2.81c.8-.78.8-2.07 0-2.86zM5.41 20L4 18.59l7.72-7.72 1.47 1.35L5.41 20z\"/>\n",
              "  </svg>\n",
              "      </button>\n",
              "      \n",
              "  <style>\n",
              "    .colab-df-container {\n",
              "      display:flex;\n",
              "      flex-wrap:wrap;\n",
              "      gap: 12px;\n",
              "    }\n",
              "\n",
              "    .colab-df-convert {\n",
              "      background-color: #E8F0FE;\n",
              "      border: none;\n",
              "      border-radius: 50%;\n",
              "      cursor: pointer;\n",
              "      display: none;\n",
              "      fill: #1967D2;\n",
              "      height: 32px;\n",
              "      padding: 0 0 0 0;\n",
              "      width: 32px;\n",
              "    }\n",
              "\n",
              "    .colab-df-convert:hover {\n",
              "      background-color: #E2EBFA;\n",
              "      box-shadow: 0px 1px 2px rgba(60, 64, 67, 0.3), 0px 1px 3px 1px rgba(60, 64, 67, 0.15);\n",
              "      fill: #174EA6;\n",
              "    }\n",
              "\n",
              "    [theme=dark] .colab-df-convert {\n",
              "      background-color: #3B4455;\n",
              "      fill: #D2E3FC;\n",
              "    }\n",
              "\n",
              "    [theme=dark] .colab-df-convert:hover {\n",
              "      background-color: #434B5C;\n",
              "      box-shadow: 0px 1px 3px 1px rgba(0, 0, 0, 0.15);\n",
              "      filter: drop-shadow(0px 1px 2px rgba(0, 0, 0, 0.3));\n",
              "      fill: #FFFFFF;\n",
              "    }\n",
              "  </style>\n",
              "\n",
              "      <script>\n",
              "        const buttonEl =\n",
              "          document.querySelector('#df-60afa293-6d62-4c33-a7c5-906b265fafaf button.colab-df-convert');\n",
              "        buttonEl.style.display =\n",
              "          google.colab.kernel.accessAllowed ? 'block' : 'none';\n",
              "\n",
              "        async function convertToInteractive(key) {\n",
              "          const element = document.querySelector('#df-60afa293-6d62-4c33-a7c5-906b265fafaf');\n",
              "          const dataTable =\n",
              "            await google.colab.kernel.invokeFunction('convertToInteractive',\n",
              "                                                     [key], {});\n",
              "          if (!dataTable) return;\n",
              "\n",
              "          const docLinkHtml = 'Like what you see? Visit the ' +\n",
              "            '<a target=\"_blank\" href=https://colab.research.google.com/notebooks/data_table.ipynb>data table notebook</a>'\n",
              "            + ' to learn more about interactive tables.';\n",
              "          element.innerHTML = '';\n",
              "          dataTable['output_type'] = 'display_data';\n",
              "          await google.colab.output.renderOutput(dataTable, element);\n",
              "          const docLink = document.createElement('div');\n",
              "          docLink.innerHTML = docLinkHtml;\n",
              "          element.appendChild(docLink);\n",
              "        }\n",
              "      </script>\n",
              "    </div>\n",
              "  </div>\n",
              "  "
            ]
          },
          "metadata": {},
          "execution_count": 7
        }
      ]
    },
    {
      "cell_type": "code",
      "source": [
        "## Converto il Timestamp in Datatime\n",
        "df[0] = (pd.to_datetime(df[0],unit='ms'))"
      ],
      "metadata": {
        "id": "iz7TbpLD-rDA"
      },
      "execution_count": 8,
      "outputs": []
    },
    {
      "cell_type": "code",
      "source": [
        "## Elimino le colonne che non uso\n",
        "df = df.drop(columns=[6, 7, 8, 9, 10, 11])"
      ],
      "metadata": {
        "id": "PH4rKOwTIJVa"
      },
      "execution_count": 9,
      "outputs": []
    },
    {
      "cell_type": "code",
      "source": [
        "## Do dei nomi alle colonne\n",
        "df.columns = ['date', 'open', 'high', 'low', 'close', 'volume']"
      ],
      "metadata": {
        "id": "mMpCD5uqISvI"
      },
      "execution_count": 10,
      "outputs": []
    },
    {
      "cell_type": "code",
      "source": [
        "## Grafico chiusure di Cardano"
      ],
      "metadata": {
        "id": "Ybmq5hvcjMcg"
      },
      "execution_count": 11,
      "outputs": []
    },
    {
      "cell_type": "code",
      "source": [
        "import matplotlib.pyplot as plt"
      ],
      "metadata": {
        "id": "qtIiDFzylVAA"
      },
      "execution_count": 12,
      "outputs": []
    },
    {
      "cell_type": "code",
      "source": [
        "## Converto il formato della colonna Close\n",
        "df[\"close\"] = df[\"close\"].astype(float)"
      ],
      "metadata": {
        "id": "cMFvyI7oncaA"
      },
      "execution_count": 13,
      "outputs": []
    },
    {
      "cell_type": "code",
      "source": [
        "## Grafico la colonna Close\n",
        "df[\"close\"].plot()"
      ],
      "metadata": {
        "colab": {
          "base_uri": "https://localhost:8080/",
          "height": 282
        },
        "id": "OkQ1Bdk6S3TC",
        "outputId": "40981b02-0c46-4053-9b26-8b1166ebb24b"
      },
      "execution_count": 14,
      "outputs": [
        {
          "output_type": "execute_result",
          "data": {
            "text/plain": [
              "<matplotlib.axes._subplots.AxesSubplot at 0x7f6b6f7b1e10>"
            ]
          },
          "metadata": {},
          "execution_count": 14
        },
        {
          "output_type": "display_data",
          "data": {
            "text/plain": [
              "<Figure size 432x288 with 1 Axes>"
            ],
            "image/png": "[encoded data removed]"
          },
          "metadata": {
            "needs_background": "light"
          }
        }
      ]
    },
    {
      "cell_type": "code",
      "source": [
        "## SMA"
      ],
      "metadata": {
        "id": "PfZfma5ASqr8"
      },
      "execution_count": 15,
      "outputs": []
    },
    {
      "cell_type": "markdown",
      "source": [
        "$$SMA = \\frac{\\sum_{i=1}^{N}Pi}{N}$$"
      ],
      "metadata": {
        "id": "18cU7VBrSpty"
      }
    },
    {
      "cell_type": "code",
      "source": [
        "import statistics as stats\n",
        "import matplotlib.pyplot as plt\n",
        "\n",
        "time_period = 20\n",
        "history = []\n",
        "sma_values = []\n",
        "\n",
        "for close_price in df[\"close\"]:\n",
        "  history.append(close_price)\n",
        "  if len(history) > time_period:\n",
        "    del (history[0])\n",
        "\n",
        "  sma_values.append(stats.mean(history))\n",
        "\n",
        "df = df.assign(sma20=pd.Series(sma_values))\n",
        "\n",
        "close_price = df['close']\n",
        "\n",
        "sma = df['sma20']\n",
        "\n",
        "import matplotlib.pyplot as plt\n",
        "\n",
        "fig = plt.figure()\n",
        "\n",
        "ax1 = fig.add_subplot(111, ylabel='Cardano in $')\n",
        "\n",
        "close_price.plot(ax=ax1, color='g', lw=2., legend=True)\n",
        "\n",
        "sma.plot(ax=ax1, color='r', lw=2., legend=True)\n",
        "\n",
        "plt.show()"
      ],
      "metadata": {
        "colab": {
          "base_uri": "https://localhost:8080/",
          "height": 265
        },
        "id": "iTtE6RkJ2TIa",
        "outputId": "323944a7-bd06-480b-eae6-349153570c00"
      },
      "execution_count": 16,
      "outputs": [
        {
          "output_type": "display_data",
          "data": {
            "text/plain": [
              "<Figure size 432x288 with 1 Axes>"
            ],
            "image/png": "[encoded data removed]"
          },
          "metadata": {
            "needs_background": "light"
          }
        }
      ]
    },
    {
      "cell_type": "code",
      "source": [
        "## Doppia SMA"
      ],
      "metadata": {
        "id": "LZC1l7kb-6ZN"
      },
      "execution_count": 17,
      "outputs": []
    },
    {
      "cell_type": "code",
      "source": [
        "import numpy as np"
      ],
      "metadata": {
        "id": "3Obqbp7Wf0eO"
      },
      "execution_count": 21,
      "outputs": []
    },
    {
      "cell_type": "code",
      "source": [
        "cardano_data = df"
      ],
      "metadata": {
        "id": "pL4KdCUDfTsj"
      },
      "execution_count": 27,
      "outputs": []
    },
    {
      "cell_type": "code",
      "source": [
        "def double_moving_average(financial_data, short_window, long_window):\n",
        "    signals = pd.DataFrame(index=financial_data.index)\n",
        "    signals['signal'] = 0.0\n",
        "    signals['short_mavg'] = financial_data['close'].rolling(window=short_window,min_periods=1, center=False).mean()\n",
        "    signals['long_mavg'] = financial_data['close'].rolling(window=long_window,min_periods=1, center=False).mean()\n",
        "    signals['signal'][short_window:] = np.where(signals['short_mavg'][short_window:] > signals['long_mavg'][short_window:], 1.0, 0.0)\n",
        "    signals['orders'] = signals['signal'].diff()\n",
        "    return signals\n",
        "\n",
        "ts=double_moving_average(cardano_data,20,50)\n",
        "ts"
      ],
      "metadata": {
        "colab": {
          "base_uri": "https://localhost:8080/",
          "height": 424
        },
        "id": "_I0ou7vtfLOp",
        "outputId": "df54006d-0074-4fbe-ca7c-4a7156d8d027"
      },
      "execution_count": 30,
      "outputs": [
        {
          "output_type": "execute_result",
          "data": {
            "text/plain": [
              "     signal  short_mavg  long_mavg  orders\n",
              "0       0.0    0.586800   0.586800     NaN\n",
              "1       0.0    0.586350   0.586350     0.0\n",
              "2       0.0    0.586800   0.586800     0.0\n",
              "3       0.0    0.587175   0.587175     0.0\n",
              "4       0.0    0.587380   0.587380     0.0\n",
              "..      ...         ...        ...     ...\n",
              "995     0.0    0.603355   0.609944     0.0\n",
              "996     0.0    0.603105   0.609622     0.0\n",
              "997     0.0    0.602855   0.609286     0.0\n",
              "998     0.0    0.602465   0.608912     0.0\n",
              "999     0.0    0.602215   0.608552     0.0\n",
              "\n",
              "[1000 rows x 4 columns]"
            ],
            "text/html": [
              "\n",
              "  <div id=\"df-75456154-8a59-4b52-8114-2d06f01a8d6d\">\n",
              "    <div class=\"colab-df-container\">\n",
              "      <div>\n",
              "<style scoped>\n",
              "    .dataframe tbody tr th:only-of-type {\n",
              "        vertical-align: middle;\n",
              "    }\n",
              "\n",
              "    .dataframe tbody tr th {\n",
              "        vertical-align: top;\n",
              "    }\n",
              "\n",
              "    .dataframe thead th {\n",
              "        text-align: right;\n",
              "    }\n",
              "</style>\n",
              "<table border=\"1\" class=\"dataframe\">\n",
              "  <thead>\n",
              "    <tr style=\"text-align: right;\">\n",
              "      <th></th>\n",
              "      <th>signal</th>\n",
              "      <th>short_mavg</th>\n",
              "      <th>long_mavg</th>\n",
              "      <th>orders</th>\n",
              "    </tr>\n",
              "  </thead>\n",
              "  <tbody>\n",
              "    <tr>\n",
              "      <th>0</th>\n",
              "      <td>0.0</td>\n",
              "      <td>0.586800</td>\n",
              "      <td>0.586800</td>\n",
              "      <td>NaN</td>\n",
              "    </tr>\n",
              "    <tr>\n",
              "      <th>1</th>\n",
              "      <td>0.0</td>\n",
              "      <td>0.586350</td>\n",
              "      <td>0.586350</td>\n",
              "      <td>0.0</td>\n",
              "    </tr>\n",
              "    <tr>\n",
              "      <th>2</th>\n",
              "      <td>0.0</td>\n",
              "      <td>0.586800</td>\n",
              "      <td>0.586800</td>\n",
              "      <td>0.0</td>\n",
              "    </tr>\n",
              "    <tr>\n",
              "      <th>3</th>\n",
              "      <td>0.0</td>\n",
              "      <td>0.587175</td>\n",
              "      <td>0.587175</td>\n",
              "      <td>0.0</td>\n",
              "    </tr>\n",
              "    <tr>\n",
              "      <th>4</th>\n",
              "      <td>0.0</td>\n",
              "      <td>0.587380</td>\n",
              "      <td>0.587380</td>\n",
              "      <td>0.0</td>\n",
              "    </tr>\n",
              "    <tr>\n",
              "      <th>...</th>\n",
              "      <td>...</td>\n",
              "      <td>...</td>\n",
              "      <td>...</td>\n",
              "      <td>...</td>\n",
              "    </tr>\n",
              "    <tr>\n",
              "      <th>995</th>\n",
              "      <td>0.0</td>\n",
              "      <td>0.603355</td>\n",
              "      <td>0.609944</td>\n",
              "      <td>0.0</td>\n",
              "    </tr>\n",
              "    <tr>\n",
              "      <th>996</th>\n",
              "      <td>0.0</td>\n",
              "      <td>0.603105</td>\n",
              "      <td>0.609622</td>\n",
              "      <td>0.0</td>\n",
              "    </tr>\n",
              "    <tr>\n",
              "      <th>997</th>\n",
              "      <td>0.0</td>\n",
              "      <td>0.602855</td>\n",
              "      <td>0.609286</td>\n",
              "      <td>0.0</td>\n",
              "    </tr>\n",
              "    <tr>\n",
              "      <th>998</th>\n",
              "      <td>0.0</td>\n",
              "      <td>0.602465</td>\n",
              "      <td>0.608912</td>\n",
              "      <td>0.0</td>\n",
              "    </tr>\n",
              "    <tr>\n",
              "      <th>999</th>\n",
              "      <td>0.0</td>\n",
              "      <td>0.602215</td>\n",
              "      <td>0.608552</td>\n",
              "      <td>0.0</td>\n",
              "    </tr>\n",
              "  </tbody>\n",
              "</table>\n",
              "<p>1000 rows × 4 columns</p>\n",
              "</div>\n",
              "      <button class=\"colab-df-convert\" onclick=\"convertToInteractive('df-75456154-8a59-4b52-8114-2d06f01a8d6d')\"\n",
              "              title=\"Convert this dataframe to an interactive table.\"\n",
              "              style=\"display:none;\">\n",
              "        \n",
              "  <svg xmlns=\"http://www.w3.org/2000/svg\" height=\"24px\"viewBox=\"0 0 24 24\"\n",
              "       width=\"24px\">\n",
              "    <path d=\"M0 0h24v24H0V0z\" fill=\"none\"/>\n",
              "    <path d=\"M18.56 5.44l.94 2.06.94-2.06 2.06-.94-2.06-.94-.94-2.06-.94 2.06-2.06.94zm-11 1L8.5 8.5l.94-2.06 2.06-.94-2.06-.94L8.5 2.5l-.94 2.06-2.06.94zm10 10l.94 2.06.94-2.06 2.06-.94-2.06-.94-.94-2.06-.94 2.06-2.06.94z\"/><path d=\"M17.41 7.96l-1.37-1.37c-.4-.4-.92-.59-1.43-.59-.52 0-1.04.2-1.43.59L10.3 9.45l-7.72 7.72c-.78.78-.78 2.05 0 2.83L4 21.41c.39.39.9.59 1.41.59.51 0 1.02-.2 1.41-.59l7.78-7.78 2.81-2.81c.8-.78.8-2.07 0-2.86zM5.41 20L4 18.59l7.72-7.72 1.47 1.35L5.41 20z\"/>\n",
              "  </svg>\n",
              "      </button>\n",
              "      \n",
              "  <style>\n",
              "    .colab-df-container {\n",
              "      display:flex;\n",
              "      flex-wrap:wrap;\n",
              "      gap: 12px;\n",
              "    }\n",
              "\n",
              "    .colab-df-convert {\n",
              "      background-color: #E8F0FE;\n",
              "      border: none;\n",
              "      border-radius: 50%;\n",
              "      cursor: pointer;\n",
              "      display: none;\n",
              "      fill: #1967D2;\n",
              "      height: 32px;\n",
              "      padding: 0 0 0 0;\n",
              "      width: 32px;\n",
              "    }\n",
              "\n",
              "    .colab-df-convert:hover {\n",
              "      background-color: #E2EBFA;\n",
              "      box-shadow: 0px 1px 2px rgba(60, 64, 67, 0.3), 0px 1px 3px 1px rgba(60, 64, 67, 0.15);\n",
              "      fill: #174EA6;\n",
              "    }\n",
              "\n",
              "    [theme=dark] .colab-df-convert {\n",
              "      background-color: #3B4455;\n",
              "      fill: #D2E3FC;\n",
              "    }\n",
              "\n",
              "    [theme=dark] .colab-df-convert:hover {\n",
              "      background-color: #434B5C;\n",
              "      box-shadow: 0px 1px 3px 1px rgba(0, 0, 0, 0.15);\n",
              "      filter: drop-shadow(0px 1px 2px rgba(0, 0, 0, 0.3));\n",
              "      fill: #FFFFFF;\n",
              "    }\n",
              "  </style>\n",
              "\n",
              "      <script>\n",
              "        const buttonEl =\n",
              "          document.querySelector('#df-75456154-8a59-4b52-8114-2d06f01a8d6d button.colab-df-convert');\n",
              "        buttonEl.style.display =\n",
              "          google.colab.kernel.accessAllowed ? 'block' : 'none';\n",
              "\n",
              "        async function convertToInteractive(key) {\n",
              "          const element = document.querySelector('#df-75456154-8a59-4b52-8114-2d06f01a8d6d');\n",
              "          const dataTable =\n",
              "            await google.colab.kernel.invokeFunction('convertToInteractive',\n",
              "                                                     [key], {});\n",
              "          if (!dataTable) return;\n",
              "\n",
              "          const docLinkHtml = 'Like what you see? Visit the ' +\n",
              "            '<a target=\"_blank\" href=https://colab.research.google.com/notebooks/data_table.ipynb>data table notebook</a>'\n",
              "            + ' to learn more about interactive tables.';\n",
              "          element.innerHTML = '';\n",
              "          dataTable['output_type'] = 'display_data';\n",
              "          await google.colab.output.renderOutput(dataTable, element);\n",
              "          const docLink = document.createElement('div');\n",
              "          docLink.innerHTML = docLinkHtml;\n",
              "          element.appendChild(docLink);\n",
              "        }\n",
              "      </script>\n",
              "    </div>\n",
              "  </div>\n",
              "  "
            ]
          },
          "metadata": {},
          "execution_count": 30
        }
      ]
    },
    {
      "cell_type": "code",
      "source": [
        "fig = plt.figure()\n",
        "ax1 = fig.add_subplot(111, ylabel='Cardano in $')\n",
        "cardano_data[\"close\"].plot(ax=ax1, color='g', lw=.5)\n",
        "ts[\"short_mavg\"].plot(ax=ax1, color='r', lw=2.)\n",
        "ts[\"long_mavg\"].plot(ax=ax1, color='b', lw=2.)\n",
        "ax1.plot(ts.loc[ts.orders== 1.0].index,\n",
        "    cardano_data[\"close\"][ts.orders == 1.0],\n",
        "    '^', markersize=7, color='k')\n",
        "ax1.plot(ts.loc[ts.orders== -1.0].index,\n",
        "    cardano_data[\"close\"][ts.orders == -1.0],\n",
        "    'v', markersize=7, color='k')\n",
        "plt.legend([\"Price\",\"Short mavg\",\"Long mavg\",\"Buy\",\"Sell\"])\n",
        "plt.title(\"Doppia SMA\")\n",
        "plt.show()"
      ],
      "metadata": {
        "colab": {
          "base_uri": "https://localhost:8080/",
          "height": 281
        },
        "id": "tjMt9950f9bf",
        "outputId": "4df4342a-e43b-4706-c979-503368a6c8b4"
      },
      "execution_count": 31,
      "outputs": [
        {
          "output_type": "display_data",
          "data": {
            "text/plain": [
              "<Figure size 432x288 with 1 Axes>"
            ],
            "image/png": "[encoded data removed]"
          },
          "metadata": {
            "needs_background": "light"
          }
        }
      ]
    }
  ]
}