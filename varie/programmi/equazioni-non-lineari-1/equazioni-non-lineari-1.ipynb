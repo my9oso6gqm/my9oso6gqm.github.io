{
 "cells": [
  {
   "cell_type": "code",
   "execution_count": 1,
   "id": "modified-collins",
   "metadata": {},
   "outputs": [],
   "source": [
    "%display latex"
   ]
  },
  {
   "cell_type": "code",
   "execution_count": 2,
   "id": "altered-membrane",
   "metadata": {},
   "outputs": [],
   "source": [
    "from scipy import optimize"
   ]
  },
  {
   "cell_type": "code",
   "execution_count": 3,
   "id": "instant-territory",
   "metadata": {},
   "outputs": [
    {
     "data": {
      "text/html": [
       "<html><script type=\"math/tex; mode=display\">\\newcommand{\\Bold}[1]{\\mathbf{#1}}x</script></html>"
      ],
      "text/latex": [
       "\\begin{math}\n",
       "\\newcommand{\\Bold}[1]{\\mathbf{#1}}x\n",
       "\\end{math}"
      ],
      "text/plain": [
       "x"
      ]
     },
     "execution_count": 3,
     "metadata": {},
     "output_type": "execute_result"
    }
   ],
   "source": [
    "var(\"x\")"
   ]
  },
  {
   "cell_type": "code",
   "execution_count": 4,
   "id": "specified-hollywood",
   "metadata": {},
   "outputs": [],
   "source": [
    "z = 6000-1000*(1+x)*((1+x)**5-1)/x"
   ]
  },
  {
   "cell_type": "code",
   "execution_count": 5,
   "id": "binary-magnet",
   "metadata": {},
   "outputs": [
    {
     "data": {
      "text/html": [
       "<html><script type=\"math/tex; mode=display\">\\newcommand{\\Bold}[1]{\\mathbf{#1}}-\\frac{1000 \\, {\\left({\\left(x + 1\\right)}^{5} - 1\\right)} {\\left(x + 1\\right)}}{x} + 6000</script></html>"
      ],
      "text/latex": [
       "\\begin{math}\n",
       "\\newcommand{\\Bold}[1]{\\mathbf{#1}}-\\frac{1000 \\, {\\left({\\left(x + 1\\right)}^{5} - 1\\right)} {\\left(x + 1\\right)}}{x} + 6000\n",
       "\\end{math}"
      ],
      "text/plain": [
       "-1000*((x + 1)^5 - 1)*(x + 1)/x + 6000"
      ]
     },
     "execution_count": 5,
     "metadata": {},
     "output_type": "execute_result"
    }
   ],
   "source": [
    "z"
   ]
  },
  {
   "cell_type": "code",
   "execution_count": 6,
   "id": "polar-least",
   "metadata": {},
   "outputs": [
    {
     "name": "stdout",
     "output_type": "stream",
     "text": [
      "0.0614024115365254\n"
     ]
    }
   ],
   "source": [
    "def fun(x):\n",
    "    z = 6000-1000*(1+x)*((1+x)**5-1)/x\n",
    "    return z\n",
    "y = optimize.newton(fun,0.1)\n",
    "print (y)"
   ]
  }
 ],
 "metadata": {
  "kernelspec": {
   "display_name": "SageMath 9.2",
   "language": "sage",
   "name": "sagemath"
  },
  "language_info": {
   "codemirror_mode": {
    "name": "ipython",
    "version": 3
   },
   "file_extension": ".py",
   "mimetype": "text/x-python",
   "name": "python",
   "nbconvert_exporter": "python",
   "pygments_lexer": "ipython3",
   "version": "3.9.2"
  }
 },
 "nbformat": 4,
 "nbformat_minor": 5
}
